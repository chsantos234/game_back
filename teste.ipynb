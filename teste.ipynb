{
 "cells": [
  {
   "cell_type": "code",
   "execution_count": 1,
   "metadata": {},
   "outputs": [],
   "source": [
    "import requests\n",
    "from env import env\n",
    "import urllib.parse\n",
    "from datetime import datetime"
   ]
  },
  {
   "cell_type": "code",
   "execution_count": 34,
   "metadata": {},
   "outputs": [
    {
     "name": "stdout",
     "output_type": "stream",
     "text": [
      "16384\n"
     ]
    }
   ],
   "source": [
    "print(2**14)"
   ]
  },
  {
   "cell_type": "code",
   "execution_count": 2,
   "metadata": {},
   "outputs": [],
   "source": [
    "csUrl = \"https://www.cheapshark.com/api/1.0/\"\n",
    "\n",
    "def supCheapSharkExtractor(path,**kwargs) -> list:\n",
    "\n",
    "    send = csUrl + path\n",
    "\n",
    "    for key,value in kwargs.items():\n",
    "        if value != None: send += f\"{key}={value}&\"\n",
    "    return requests.get(send).json()\n",
    "\n",
    "def getGameByTheme(title:str = None,size:int = 60) -> list:\n",
    "    \"\"\"\n",
    "    Retorna uma lista de jogos baseados em um tema.\n",
    "    \"\"\"\n",
    "    if title: title = urllib.parse.quote(title)\n",
    "    response = supCheapSharkExtractor(path=\"games?\",title=title,size=size)\n",
    "    response_id = []\n",
    "\n",
    "    for i in response: \n",
    "        if i['steamAppID'] != None: \n",
    "            response_id.append(f\"{i['external']} - {i['steamAppID']}\")\n",
    "\n",
    "    return response_id"
   ]
  },
  {
   "cell_type": "code",
   "execution_count": 15,
   "metadata": {},
   "outputs": [],
   "source": [
    "stUrl = \"https://store.steampowered.com/api/\"\n",
    "\n",
    "def supSteamPoweredExtractor(path,**kwargs) -> dict:\n",
    "    send = stUrl + path\n",
    "\n",
    "    for key,value in kwargs.items():\n",
    "        if value != None: send += f\"{key}={value}&\"\n",
    "\n",
    "    return requests.get(send).json()\n",
    "\n",
    "def getGameOverview(appids:str = None):\n",
    "    response = supSteamPoweredExtractor(path=\"appdetails?\",appids=appids,cc=\"pt-br\",l=\"portuguese\")\n",
    "    print(response)\n",
    "    image_v = response[appids]['data']\n",
    "\n",
    "    desciption_v = response[appids][\"data\"]['detailed_description']\n",
    "\n",
    "    dev_v = \"Desenvolvido pela: \" + response[appids][\"data\"]['developers'][0]\n",
    "    pub_v = \"Distribuído pela: \" + response[appids][\"data\"]['publishers'][0]\n",
    "    \n",
    "    try:\n",
    "        price_v = \"Preço na steam: \"+ response[appids][\"data\"]['price_overview']['final_formatted']\n",
    "    except:\n",
    "        price_v = \"Preço indisponível\"\n",
    "\n",
    "    genre_v = response[appids]['data']['genres'][0]['description'] # more tests\n",
    "\n",
    "    date_v = response[appids]['data']['release_date']['date']\n",
    "\n",
    "    try:\n",
    "        meta_v = \"Metacritic: \" + str(response[appids][\"data\"]['metacritic']['score'])\n",
    "    except Exception as e:\n",
    "        meta_v = \"Metacritic não disponível\"\n",
    "\n",
    "    try:\n",
    "        recomendations_v = \"Número de avaliações na steam: \"+str(response[appids][\"data\"][\"recommendations\"]['total'])\n",
    "    except:\n",
    "        recomendations_v = \"Produto não avaliado\"\n",
    "\n",
    "    min_rec_v = \"Requisitos mínimos: \" + response[appids]['data']['pc_requirements']['minimum']\n",
    "\n",
    "    max_rec_v = \"Requisitos recomendados: \" + response[appids]['data']['pc_requirements']['recommended']\n",
    "\n",
    "\n",
    "    struct = {\n",
    "        \"desc\": desciption_v,\n",
    "        \"dev\": dev_v,\n",
    "        \"pub\": pub_v,\n",
    "        \"price\":price_v,\n",
    "        \"genre\":genre_v,\n",
    "        \"date\":date_v,\n",
    "        \"meta\":meta_v,\n",
    "        \"recomendations\":recomendations_v,\n",
    "        \"min_rec\":min_rec_v,\n",
    "        \"max_rec\":max_rec_v\n",
    "    }\n",
    "\n",
    "    return struct"
   ]
  },
  {
   "cell_type": "code",
   "execution_count": 19,
   "metadata": {},
   "outputs": [],
   "source": [
    "adUrl = \"https://api.isthereanydeal.com/\"\n",
    "\n",
    "def supIsThereAnyDealExtractor(path,**kwargs) -> list:\n",
    "\n",
    "    send = adUrl + path\n",
    "\n",
    "    for key,value in kwargs.items():\n",
    "        if value != None: send += f\"{key}={value}&\"\n",
    "\n",
    "    return requests.get(send).json()\n",
    "\n",
    "def getGameLowest(gameid:str = None):\n",
    "    response = supIsThereAnyDealExtractor(path=\"v01/game/overview/?\",key=env(\"AnyDealKey\"),country=\"BR\",shop=\"steam\",ids=f\"app/{gameid}\")\n",
    "\n",
    "    print(type(response['data'][f\"app/{gameid}\"]))\n",
    "\n",
    "    try:\n",
    "\n",
    "        store_today = response['data'][f\"app/{gameid}\"]['price']['store']\n",
    "        price_today = response['data'][f\"app/{gameid}\"]['price']['price_formatted']\n",
    "\n",
    "    except:\n",
    "        store_today = None\n",
    "        price_today = None\n",
    "\n",
    "    store_hist = response['data'][f\"app/{gameid}\"]['lowest']['store']\n",
    "    price_hist = response['data'][f\"app/{gameid}\"]['lowest']['price_formatted']\n",
    "\n",
    "\n",
    "    price_url = response['data'][f\"app/{gameid}\"]['urls']['history']\n",
    "\n",
    "    data_formatada = datetime.utcfromtimestamp(response['data'][f\"app/{gameid}\"]['lowest']['recorded']).strftime('%d-%m-%Y') # dia do menor preço histórico\n",
    "\n",
    "    struct = {\n",
    "        \"store_today\":store_today,\n",
    "        \"price_today\":price_today,\n",
    "        \"store_hist\":store_hist,\n",
    "        \"price_hist\":price_hist,\n",
    "        \"price_url\":price_url,\n",
    "        \"date\":data_formatada\n",
    "    }\n",
    "\n",
    "    return struct\n",
    "\n",
    "def getGamePlains(gameid:str = None):\n",
    "    response = supIsThereAnyDealExtractor(path=\"v01/game/plain/id/?\",key=env(\"AnyDealKey\"),shop=\"steam\",ids=f\"app/{gameid}\")\n",
    "    return response['data'][f\"app/{gameid}\"]\n",
    "\n",
    "def getGamePrices(gamePlain:str = None):\n",
    "    response = supIsThereAnyDealExtractor(path=\"v01/game/prices/?\",key=env(\"AnyDealKey\"),plains=gamePlain,country=\"BR\")\n",
    "\n",
    "    price_list = []\n",
    "\n",
    "    try:\n",
    "        for i in response['data'][response]['list']:\n",
    "            f\"{i['shop']['name']}: {i['price_old']} -> {i['price_new']} ({i['price_cut']}%)\"\n",
    "            price_list.append()\n",
    "    except:\n",
    "        return []\n",
    "\n",
    "    return price_list\n"
   ]
  },
  {
   "cell_type": "markdown",
   "metadata": {},
   "source": [
    "## Escolha do tema e jogo"
   ]
  },
  {
   "cell_type": "code",
   "execution_count": 30,
   "metadata": {},
   "outputs": [
    {
     "name": "stdout",
     "output_type": "stream",
     "text": [
      "Red Dead Online - 1404210\n",
      "Redrum: Dead Diary - 541720\n",
      "Red Dead Redemption 2 - 1174180\n",
      "Redemption Cemetery: Dead Park Collectors Edition - 1112110\n",
      "Furry Shakespeare: Dreamin of One Lazy Dead Midsummer - 1512370\n",
      "Red is Dead - The Complex Fun Random Level Fast Strategy Game - 503130\n",
      "<class 'list'>\n"
     ]
    }
   ],
   "source": [
    "response = getGameByTheme(title=\"red dead\")\n",
    "for i in response:\n",
    "    print(i)"
   ]
  },
  {
   "cell_type": "markdown",
   "metadata": {},
   "source": [
    "## Retorno do overview"
   ]
  },
  {
   "cell_type": "code",
   "execution_count": 26,
   "metadata": {},
   "outputs": [],
   "source": [
    "gameid = \"1174180\"\n",
    "game_overview = getGameOverview(appids=gameid)"
   ]
  },
  {
   "cell_type": "code",
   "execution_count": 17,
   "metadata": {},
   "outputs": [
    {
     "name": "stdout",
     "output_type": "stream",
     "text": [
      "{'desc': 'Quando um malandro de rua, um ladrão de bancos aposentado e um psicopata aterrorizante se envolvem com alguns dos criminosos mais assustadores e loucos do submundo, o governo dos EUA e a indústria do entretenimento, eles devem realizar golpes ousados para sobreviver nessa cidade implacável onde não podem confiar em ninguém, nem mesmo um no outro.<br><br>Grand Theft Auto V para PC oferece aos jogadores a opção de explorar o gigantesco e premiado mundo de Los Santos e Blaine County em resoluções de até 4K e além, assim como a chance de experimentar o jogo rodando a 60 FPS (quadros por segundo).<br><br>O jogo oferece uma ampla seleção de opções de personalização específicas para o PC, com mais de 25 configurações separadas para qualidade de textura, sombreamentos, suavização de bordas e muito mais. Além disso, ele contém diversas opções de personalização dos controles de mouse e teclado. Entre as opções adicionais estão a densidade da população, o controle do tráfego de carros e pedestres, suporte para dois ou três monitores, compatibilidade com telas 3D e suporte para controle plug-and-play.<br><br>Grand Theft Auto V para PC inclui o Grand Theft Auto Online, com suporte para até 30 jogadores e dois espectadores. Grand Theft Auto Online para PC inclui todas as atualizações de jogo e conteúdos criados pela Rockstar lançados desde que Grand Theft Auto Online foi ao ar, incluindo os recém-lançados Golpes e Modos Adversários.<br><br>A versão para PC do Grand Theft Auto V e Grand Theft Auto Online apresenta o Modo em Primeira Pessoa, que dá aos jogadores a chance de explorar o mundo incrivelmente detalhado de Los Santos e Blaine County de uma maneira completamente nova.<br><br>Grand Theft Auto V para PC também traz a estreia do Editor Rockstar, um poderoso conjunto de ferramentas criativas para capturar, editar e compartilhar, de maneira rápida e fácil, vídeos gravados dentro do Grand Theft Auto V e Grand Theft Auto Online. O Modo Diretor do Editor Rockstar permite que jogadores atuem em suas próprias cenas utilizando personagens proeminentes do Modo História, pedestres ou até animais para realizar a sua visão. Junto com opções de câmera e efeitos de edição avançados, que incluem efeitos de câmera lenta e acelerada e diversos filtros, os jogadores poderão adicionar suas próprias músicas, utilizando as faixas das estações de rádio do GTAV, ou controlar dinamicamente a intensidade da trilha sonora do jogo. Vídeos finalizados poderão ser enviados diretamente do Editor Rockstar para o YouTube ou para o Social Club da Rockstar Games, para facilitar o compartilhamento.<br><br>Os músicos The Alchemist e Oh No, que fizeram a trilha sonora do jogo, retornam como os apresentadores de uma nova estação de rádio, a Lab FM. A estação apresenta músicas novas e exclusivas da dupla de produtores que foram inspiradas pela trilha sonora original do jogo. Entre os artistas colaboradores convidados estão Earl Sweatshirt, Freddie Gibbs, Little Dragon, Killer Mike, Sam Herring do Future Islands, e muito mais. Jogadores poderão descobrir Los Santos e Blaine County enquanto ouvem suas próprias músicas pelo Self Radio, uma nova estação de rádio que irá apresentar músicas criadas pelos jogadores.<br><br>O conteúdo de acesso especial requer conta Rockstar Games Social Club. Visita <a href=\"https://steamcommunity.com/linkfilter/?u=http%3A%2F%2Frockstargames.com%2Fv%2Fbonuscontent\" target=\"_blank\" rel=\" noopener\"  >http://rockstargames.com/v/bonuscontent</a> para mais detalhes.', 'dev': 'Desenvolvido pela: Rockstar North', 'pub': 'Distribuído pela: Rockstar Games', 'price': 'Preço indisponível', 'genre': 'Ação', 'date': '13 abr. 2015', 'meta': 'Metacritic: 96', 'recomendations': 'Número de avaliações na steam: 1530065', 'min_rec': 'Requisitos mínimos: <strong>Mínimos:</strong><br><ul class=\"bb_ul\"><li>Requer um sistema operativo e processador de 64 bits<br></li><li><strong>Sistema Operativo *:</strong> Windows 8.1 64 bits, Windows 8 64 bits, Windows 7 64 bits Service Pack 1<br></li><li><strong>Processador:</strong> Intel Core 2 Quad CPU Q6600 a 2.40 GHz (4 CPUs) / AMD Phenom 9850 Quad-Core (4 CPUs) a 2.5 GHz<br></li><li><strong>Memória:</strong> 4 GB de RAM<br></li><li><strong>Placa gráfica:</strong> NVIDIA 9800 GT 1 GB / AMD HD 4870 1 GB (DX 10, 10.1, 11)<br></li><li><strong>Espaço no disco:</strong> Requer 110 GB de espaço livre<br></li><li><strong>Placa de som:</strong> 100% compatível com DirectX 10<br></li><li><strong>Notas adicionais:</strong> Os conteúdos transferíveis e as alterações na programação lançados ao longo do tempo mudarão os requisitos de sistema deste jogo. Consulta o fabricante do teu hardware e o site <a href=\"https://steamcommunity.com/linkfilter/?u=http%3A%2F%2Fwww.rockstargames.com%2Fsupport\" target=\"_blank\" rel=\" noopener\"  >www.rockstargames.com/support</a> para informação de compatibilidade atualizada. Alguns componentes de sistema, como chipsets móveis e placas gráficas integradas e AGP, poderão não ser compatíveis. As especificações não listadas poderão não ser suportadas pela distribuidora.     Outros requisitos: A instalação e jogo online requerem um registo na rede Rockstar Games Social Club (maiores de 13); é necessária uma ligação à internet para ativação, jogo online e verificação periódica dos direitos de utilização; é necessária a instalação de software, incluindo a plataforma Rockstar Games Social Club, DirectX, Chromium e Microsoft Visual C++ 2008 sp1 Redistributable Package, além de software de autenticação que reconheça certos atributos de hardware para direitos de utilização, gestão de direitos digitais, sistema e outros propósitos de apoio.     É NECESSÁRIO O REGISTO VIA INTERNET ATRAVÉS DE UM CÓDIGO DE SÉRIE DE UTILIZAÇÃO ÚNICA; O REGISTO ESTÁ LIMITADO A UMA CONTA DO ROCKSTAR GAMES SOCIAL CLUB (MAIORES DE 13) POR CADA CÓDIGO; APENAS UM REGISTO DE PC PERMITIDO EM CADA CONTA DO SOCIAL CLUB EM SIMULTÂNEO; OS CÓDIGOS DE SÉRIE NÃO SÃO TRANSMISSÍVEIS APÓS A UTILIZAÇÃO; AS CONTAS DO SOCIAL CLUB NÃO SÃO TRANSMISSÍVEIS.  Requisitos dos parceiros: verifica os termos de serviço deste site antes de comprares este software.</li></ul>', 'max_rec': 'Requisitos recomendados: <strong>Recomendados:</strong><br><ul class=\"bb_ul\"><li>Requer um sistema operativo e processador de 64 bits<br></li><li><strong>Sistema Operativo *:</strong> Windows 8.1 64 bits, Windows 8 64 bits, Windows 7 64 bits Service Pack 1<br></li><li><strong>Processador:</strong> Intel Core i5 3470 a 3.2 GHZ (4 CPUs) / AMD X8 FX-8350 a 4 GHZ (8 CPUs)<br></li><li><strong>Memória:</strong> 8 GB de RAM<br></li><li><strong>Placa gráfica:</strong> NVIDIA GTX 660 2 GB / AMD HD7870 2 GB<br></li><li><strong>Espaço no disco:</strong> Requer 110 GB de espaço livre<br></li><li><strong>Placa de som:</strong> 100% compatível com DirectX 10</li></ul>'}\n"
     ]
    }
   ],
   "source": [
    "print(game_overview)"
   ]
  },
  {
   "cell_type": "code",
   "execution_count": null,
   "metadata": {},
   "outputs": [],
   "source": [
    "#print(game_overview[gameid]['success'])\n",
    "\n",
    "#print(game_overview[gameid][\"data\"]['is_free'])\n",
    "\n",
    "print(game_overview[gameid][\"data\"]['detailed_description']) #\n",
    "\n",
    "print(\"Desenvolvido pela: \" + game_overview[gameid][\"data\"]['developers'][0]) # \n",
    "print(\"Distribuído pela: \" + game_overview[gameid][\"data\"]['publishers'][0]) #\n",
    "\n",
    "print(\"Preço na steam: \"+game_overview[gameid][\"data\"]['price_overview']['final_formatted']) #\n",
    "\n",
    "\n",
    "print(game_overview[gameid]['data']['genres'][0]['description']) #\n",
    "\n",
    "print(game_overview[gameid]['data']['release_date']['date']) #\n",
    "\n",
    "try:\n",
    "\n",
    "    print(\"Metacritic: \" + str(game_overview[gameid][\"data\"]['metacritic']['score'])) #\n",
    "\n",
    "except Exception as e:\n",
    "    print(\"Metacritic não disponível\") #\n",
    "\n",
    "try:\n",
    "    print(\"Número de avaliações na steam: \"+str(game_overview[gameid][\"data\"][\"recommendations\"]['total'])) #\n",
    "except:\n",
    "    print(\"Produto não avaliado\") #\n",
    "\n",
    "print(\"Requisitos mínimos: \" + game_overview[gameid]['data']['pc_requirements']['minimum'])\n",
    "\n",
    "print(\"Requisitos recomendados: \" + game_overview[gameid]['data']['pc_requirements']['recommended'])\n",
    "\n",
    "#game_overview[gameid]['data']"
   ]
  },
  {
   "cell_type": "markdown",
   "metadata": {},
   "source": [
    "## Retorno menor preço atual e histórico"
   ]
  },
  {
   "cell_type": "code",
   "execution_count": 20,
   "metadata": {},
   "outputs": [
    {
     "name": "stdout",
     "output_type": "stream",
     "text": [
      "<class 'dict'>\n"
     ]
    },
    {
     "data": {
      "text/plain": [
       "{'store_today': 'Epic Game Store',\n",
       " 'price_today': 'R$82.42',\n",
       " 'store_hist': 'Epic Game Store',\n",
       " 'price_hist': 'R$0.00',\n",
       " 'price_url': 'https://isthereanydeal.com/game/grandtheftautov/history/',\n",
       " 'date': '17-05-2020'}"
      ]
     },
     "execution_count": 20,
     "metadata": {},
     "output_type": "execute_result"
    }
   ],
   "source": [
    "game_lowest = getGameLowest(gameid)\n",
    "game_lowest"
   ]
  },
  {
   "cell_type": "code",
   "execution_count": null,
   "metadata": {},
   "outputs": [],
   "source": [
    "print(type(game_lowest['data'][f\"app/{gameid}\"]))\n",
    "\n",
    "try:\n",
    "\n",
    "    print(game_lowest['data'][f\"app/{gameid}\"]['price']['store']) # today´s lowest\n",
    "    print(game_lowest['data'][f\"app/{gameid}\"]['price']['price_formatted'])\n",
    "\n",
    "except:\n",
    "    print(\"today == historical\")\n",
    "\n",
    "print(game_lowest['data'][f\"app/{gameid}\"]['lowest']['store']) # historical lowest\n",
    "print(game_lowest['data'][f\"app/{gameid}\"]['lowest']['price_formatted'])\n",
    "\n",
    "\n",
    "print(game_lowest['data'][f\"app/{gameid}\"]['urls']['history']) # price history site\n",
    "\n",
    "print(game_lowest['data'][f\"app/{gameid}\"]['lowest']['recorded'])\n",
    "\n",
    "data_formatada = datetime.utcfromtimestamp(game_lowest['data'][f\"app/{gameid}\"]['lowest']['recorded']).strftime('%d-%m-%Y') # dia do menor preço histórico\n",
    "\n",
    "print(data_formatada)"
   ]
  },
  {
   "cell_type": "markdown",
   "metadata": {},
   "source": [
    "## Retorno todos os preços do jogo"
   ]
  },
  {
   "cell_type": "code",
   "execution_count": 27,
   "metadata": {},
   "outputs": [
    {
     "name": "stdout",
     "output_type": "stream",
     "text": [
      "reddeadredemptionii\n"
     ]
    }
   ],
   "source": [
    "plainResponse = getGamePlains(gameid=gameid)\n",
    "print(plainResponse)\n",
    "#game_plain = plainResponse['data'][f\"app/{gameid}\"]\n",
    "\n",
    "#print(game_plain)\n",
    "\n",
    "pricesResponse = getGamePrices(plainResponse)"
   ]
  },
  {
   "cell_type": "code",
   "execution_count": 28,
   "metadata": {},
   "outputs": [
    {
     "data": {
      "text/plain": [
       "[]"
      ]
     },
     "execution_count": 28,
     "metadata": {},
     "output_type": "execute_result"
    }
   ],
   "source": [
    "pricesResponse"
   ]
  },
  {
   "cell_type": "code",
   "execution_count": null,
   "metadata": {},
   "outputs": [],
   "source": [
    "#pricesResponse['data'][game_plain]['list']\n",
    "print(pricesResponse)\n",
    "\n",
    "price_list = pricesResponse['data'][game_plain]['list']\n",
    "try:\n",
    "    if price_list == []:\n",
    "        print(\"sem lista\")\n",
    "    else:\n",
    "        for i in pricesResponse['data'][game_plain]['list']:\n",
    "            print(i['price_old'],i['price_new'],str(i['price_cut'])+\"%\",i['shop']['name'])\n",
    "except Exception as e:\n",
    "    print(\"sem lista\")"
   ]
  }
 ],
 "metadata": {
  "kernelspec": {
   "display_name": "Python 3",
   "language": "python",
   "name": "python3"
  },
  "language_info": {
   "codemirror_mode": {
    "name": "ipython",
    "version": 3
   },
   "file_extension": ".py",
   "mimetype": "text/x-python",
   "name": "python",
   "nbconvert_exporter": "python",
   "pygments_lexer": "ipython3",
   "version": "3.10.7"
  }
 },
 "nbformat": 4,
 "nbformat_minor": 2
}
