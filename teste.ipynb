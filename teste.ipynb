{
 "cells": [
  {
   "cell_type": "code",
   "execution_count": 1,
   "metadata": {},
   "outputs": [],
   "source": [
    "import requests\n",
    "from env import env\n",
    "import urllib.parse\n",
    "from datetime import datetime"
   ]
  },
  {
   "cell_type": "code",
   "execution_count": 2,
   "metadata": {},
   "outputs": [],
   "source": [
    "csUrl = \"https://www.cheapshark.com/api/1.0/\"\n",
    "\n",
    "def supCheapSharkExtractor(path,**kwargs) -> list:\n",
    "\n",
    "    send = csUrl + path\n",
    "\n",
    "    for key,value in kwargs.items():\n",
    "        if value != None: send += f\"{key}={value}&\"\n",
    "    return requests.get(send).json()\n",
    "\n",
    "def getGameByTheme(title:str = None,size:int = 60) -> list:\n",
    "    \"\"\"\n",
    "    Retorna uma lista de jogos baseados em um tema.\n",
    "    \"\"\"\n",
    "    if title: title = urllib.parse.quote(title)\n",
    "    response = supCheapSharkExtractor(path=\"games?\",title=title,size=size)\n",
    "    response_id = []\n",
    "\n",
    "    for i in response: \n",
    "        if i['steamAppID'] != None: \n",
    "            response_id.append(f\"{i['external']} - {i['steamAppID']}\")\n",
    "\n",
    "    return response_id"
   ]
  },
  {
   "cell_type": "code",
   "execution_count": 3,
   "metadata": {},
   "outputs": [],
   "source": [
    "stUrl = \"https://store.steampowered.com/api/\"\n",
    "\n",
    "def supSteamPoweredExtractor(path,**kwargs) -> dict:\n",
    "    send = stUrl + path\n",
    "\n",
    "    for key,value in kwargs.items():\n",
    "        if value != None: send += f\"{key}={value}&\"\n",
    "\n",
    "    return requests.get(send).json()\n",
    "\n",
    "def getGameOverview(appids:str = None):\n",
    "    response = supSteamPoweredExtractor(path=\"appdetails?\",appids=appids,cc=\"pt-br\",l=\"portuguese\")\n",
    "    print(response)\n",
    "    image_v = response[appids]['data']\n",
    "\n",
    "    desciption_v = response[appids][\"data\"]['detailed_description']\n",
    "\n",
    "    dev_v = \"Desenvolvido pela: \" + response[appids][\"data\"]['developers'][0]\n",
    "    pub_v = \"Distribuído pela: \" + response[appids][\"data\"]['publishers'][0]\n",
    "    \n",
    "    try:\n",
    "        price_v = \"Preço na steam: \"+ response[appids][\"data\"]['price_overview']['final_formatted']\n",
    "    except:\n",
    "        price_v = \"Preço indisponível\"\n",
    "\n",
    "    genre_v = response[appids]['data']['genres'][0]['description'] # more tests\n",
    "\n",
    "    date_v = response[appids]['data']['release_date']['date']\n",
    "\n",
    "    try:\n",
    "        meta_v = \"Metacritic: \" + str(response[appids][\"data\"]['metacritic']['score'])\n",
    "    except Exception as e:\n",
    "        meta_v = \"Metacritic não disponível\"\n",
    "\n",
    "    try:\n",
    "        recomendations_v = \"Número de avaliações na steam: \"+str(response[appids][\"data\"][\"recommendations\"]['total'])\n",
    "    except:\n",
    "        recomendations_v = \"Produto não avaliado\"\n",
    "\n",
    "    min_rec_v = \"Requisitos mínimos: \" + response[appids]['data']['pc_requirements']['minimum']\n",
    "\n",
    "    max_rec_v = \"Requisitos recomendados: \" + response[appids]['data']['pc_requirements']['recommended']\n",
    "\n",
    "\n",
    "    struct = {\n",
    "        \"desc\": desciption_v,\n",
    "        \"dev\": dev_v,\n",
    "        \"pub\": pub_v,\n",
    "        \"price\":price_v,\n",
    "        \"genre\":genre_v,\n",
    "        \"date\":date_v,\n",
    "        \"meta\":meta_v,\n",
    "        \"recomendations\":recomendations_v,\n",
    "        \"min_rec\":min_rec_v,\n",
    "        \"max_rec\":max_rec_v\n",
    "    }\n",
    "\n",
    "    return struct"
   ]
  },
  {
   "cell_type": "code",
   "execution_count": 26,
   "metadata": {},
   "outputs": [],
   "source": [
    "adUrl = \"https://api.isthereanydeal.com/\"\n",
    "\n",
    "def supIsThereAnyDealExtractor(path,**kwargs) -> list:\n",
    "\n",
    "    send = adUrl + path\n",
    "\n",
    "    for key,value in kwargs.items():\n",
    "        if value != None: send += f\"{key}={value}&\"\n",
    "\n",
    "    return requests.get(send).json()\n",
    "\n",
    "def getGameLowest(gameid:str = None):\n",
    "    response = supIsThereAnyDealExtractor(path=\"v01/game/overview/?\",key=env(\"AnyDealKey\"),country=\"BR\",shop=\"steam\",ids=f\"app/{gameid}\")\n",
    "\n",
    "    print(type(response['data'][f\"app/{gameid}\"]))\n",
    "\n",
    "    try:\n",
    "\n",
    "        store_today = response['data'][f\"app/{gameid}\"]['price']['store']\n",
    "        price_today = response['data'][f\"app/{gameid}\"]['price']['price_formatted']\n",
    "\n",
    "    except:\n",
    "        store_today = None\n",
    "        price_today = None\n",
    "\n",
    "    store_hist = response['data'][f\"app/{gameid}\"]['lowest']['store']\n",
    "    price_hist = response['data'][f\"app/{gameid}\"]['lowest']['price_formatted']\n",
    "\n",
    "    price_url = response['data'][f\"app/{gameid}\"]['urls']['history']\n",
    "\n",
    "    data_formatada = datetime.utcfromtimestamp(response['data'][f\"app/{gameid}\"]['lowest']['recorded']).strftime('%d-%m-%Y') # dia do menor preço histórico\n",
    "\n",
    "    struct = {\n",
    "        \"store_today\":store_today,\n",
    "        \"price_today\":price_today,\n",
    "        \"store_hist\":store_hist,\n",
    "        \"price_hist\":price_hist,\n",
    "        \"price_url\":price_url,\n",
    "        \"date\":data_formatada\n",
    "    }\n",
    "\n",
    "    return struct\n",
    "\n",
    "def supGetGamePlains(gameid:str = None):\n",
    "    response = supIsThereAnyDealExtractor(path=\"v01/game/plain/id/?\",key=env(\"AnyDealKey\"),shop=\"steam\",ids=f\"app/{gameid}\")\n",
    "    return response['data'][f\"app/{gameid}\"]\n",
    "\n",
    "def supGetGamePrices(gamePlain:str = None):\n",
    "    response = supIsThereAnyDealExtractor(path=\"v01/game/prices/?\",key=env(\"AnyDealKey\"),plains=gamePlain,country=\"BR\")\n",
    "\n",
    "    price_list = []\n",
    "    #try:\n",
    "    for i in response['data'][gamePlain]['list']:\n",
    "        price_list.append(f\"{i['shop']['name']}: {i['price_old']} -> {i['price_new']} ({i['price_cut']}%)\")\n",
    "    #except Exception as e:\n",
    "    #    return []\n",
    "\n",
    "    return price_list\n",
    "\n",
    "def getGamePrices(gameid: str = None):\n",
    "    gamePlain = supGetGamePlains(gameid)\n",
    "    return supGetGamePrices(gamePlain)\n"
   ]
  },
  {
   "cell_type": "markdown",
   "metadata": {},
   "source": [
    "## Escolha do tema e jogo"
   ]
  },
  {
   "cell_type": "code",
   "execution_count": 5,
   "metadata": {},
   "outputs": [
    {
     "name": "stdout",
     "output_type": "stream",
     "text": [
      "Outerverse - 1293540\n",
      "Outer Wilds - 753640\n",
      "Outer Terror - 2189860\n",
      "Outerstellar - 1170940\n",
      "Outer Frontier - 1393850\n",
      "DRAG Outer Zones - 773840\n",
      "The Outer Worlds - 578650\n",
      "Outer Space Shack - 1620870\n",
      "Apollo in Outer Space - 1622840\n",
      "Albedo: Eyes from Outer Space - 277520\n",
      "Rescue Team: Danger from Outer Space! - 1333190\n",
      "The Outer Worlds: Spacers Choice Edition - 1920490\n",
      "Plan B From Outer Space: A Bavarian Odyssey - 1683620\n",
      "Dexter Stardust : Adventures in Outer Space - 1647390\n",
      "Captain ToonHead vs the Punks from Outer Space - 942390\n"
     ]
    }
   ],
   "source": [
    "response = getGameByTheme(title=\"outer\")\n",
    "for i in response:\n",
    "    print(i)"
   ]
  },
  {
   "cell_type": "markdown",
   "metadata": {},
   "source": [
    "## Retorno do overview"
   ]
  },
  {
   "cell_type": "code",
   "execution_count": 6,
   "metadata": {},
   "outputs": [
    {
     "name": "stdout",
     "output_type": "stream",
     "text": [
      "{'753640': {'success': True, 'data': {'type': 'game', 'name': 'Outer Wilds', 'steam_appid': 753640, 'required_age': 0, 'is_free': False, 'controller_support': 'full', 'dlc': [1286760, 1622100], 'detailed_description': '<h1>You Might Also Like</h1><p><a href=\"https://store.steampowered.com/app/1497440/COCOON/\" target=\"_blank\" rel=\"\"  id=\"dynamiclink_0\" >https://store.steampowered.com/app/1497440/COCOON/</a><br><a href=\"https://store.steampowered.com/app/2008920/Lorelei_and_the_Laser_Eyes/\" target=\"_blank\" rel=\"\"  id=\"dynamiclink_1\" >https://store.steampowered.com/app/2008920/Lorelei_and_the_Laser_Eyes/</a></p><br><h1>Acerca do Jogo</h1>Winner of Best Game at the 2020 BAFTA Games Awards and named Game of the Year 2019 by Giant Bomb, Polygon, Eurogamer, and The Guardian, <i>Outer Wilds</i> is a critically-acclaimed and award-winning open world mystery about a solar system trapped in an endless time loop.<br><br><strong> Welcome to the Space Program!</strong><br>You\\'re the newest recruit of Outer Wilds Ventures, a fledgling space program searching for answers in a strange, constantly evolving solar system.<br><br><img src=\"https://cdn.akamai.steamstatic.com/steam/apps/753640/extras/OW1.png?t=1701451524\" /><br> <br><strong>Mysteries of the Solar System...</strong><br>What lurks in the heart of the ominous Dark Bramble? Who built the alien ruins on the Moon? Can the endless time loop be stopped? Answers await you in the most dangerous reaches of space.<br><br><img src=\"https://cdn.akamai.steamstatic.com/steam/apps/753640/extras/OW2.png?t=1701451524\" /><br> <br><strong>A World That Changes Over Time</strong><br>The planets of <i>Outer Wilds</i> are packed with hidden locations that change with the passage of time. Visit an underground city before it\\'s swallowed by sand, or explore the surface of a planet as it crumbles beneath your feet. Every secret is guarded by hazardous environments and natural catastrophes.<br><br><img src=\"https://cdn.akamai.steamstatic.com/steam/apps/753640/extras/OW4.png?t=1701451524\" /><br> <br><strong>Grab Your Intergalactic Hiking Gear!</strong><br>Strap on your hiking boots, check your oxygen levels, and get ready to venture into space. Use a variety of unique gadgets to probe your surroundings, track down mysterious signals, decipher ancient alien writing, and roast the perfect marshmallow.<br><br><img src=\"https://cdn.akamai.steamstatic.com/steam/apps/753640/extras/OW3.png?t=1701451524\" />', 'about_the_game': 'Winner of Best Game at the 2020 BAFTA Games Awards and named Game of the Year 2019 by Giant Bomb, Polygon, Eurogamer, and The Guardian, <i>Outer Wilds</i> is a critically-acclaimed and award-winning open world mystery about a solar system trapped in an endless time loop.<br><br><strong> Welcome to the Space Program!</strong><br>You\\'re the newest recruit of Outer Wilds Ventures, a fledgling space program searching for answers in a strange, constantly evolving solar system.<br><br><img src=\"https://cdn.akamai.steamstatic.com/steam/apps/753640/extras/OW1.png?t=1701451524\" /><br> <br><strong>Mysteries of the Solar System...</strong><br>What lurks in the heart of the ominous Dark Bramble? Who built the alien ruins on the Moon? Can the endless time loop be stopped? Answers await you in the most dangerous reaches of space.<br><br><img src=\"https://cdn.akamai.steamstatic.com/steam/apps/753640/extras/OW2.png?t=1701451524\" /><br> <br><strong>A World That Changes Over Time</strong><br>The planets of <i>Outer Wilds</i> are packed with hidden locations that change with the passage of time. Visit an underground city before it\\'s swallowed by sand, or explore the surface of a planet as it crumbles beneath your feet. Every secret is guarded by hazardous environments and natural catastrophes.<br><br><img src=\"https://cdn.akamai.steamstatic.com/steam/apps/753640/extras/OW4.png?t=1701451524\" /><br> <br><strong>Grab Your Intergalactic Hiking Gear!</strong><br>Strap on your hiking boots, check your oxygen levels, and get ready to venture into space. Use a variety of unique gadgets to probe your surroundings, track down mysterious signals, decipher ancient alien writing, and roast the perfect marshmallow.<br><br><img src=\"https://cdn.akamai.steamstatic.com/steam/apps/753640/extras/OW3.png?t=1701451524\" />', 'short_description': 'Named Game of the Year 2019 by Giant Bomb, Polygon, Eurogamer, and The Guardian, Outer Wilds is a critically-acclaimed and award-winning open world mystery about a solar system trapped in an endless time loop.', 'supported_languages': 'Inglês<strong>*</strong>, Francês, Italiano, Alemão, Japonês, Coreano, Polaco, Português (Brasil), Russo, Chinês simplificado, Espanhol (América Latina), Espanhol (Espanha), Turco<br><strong>*</strong>idiomas com suporte total de áudio', 'reviews': \"“It's a mystery that spans multiple worlds, after all, and untangling it is a delight.”<br />\\r\\n89/100 – PC Gamer<br />\\r\\n<br />\\r\\n“A hallmark of excellence.”<br />\\r\\n5/5 – Destructoid<br />\\r\\n<br />\\r\\n“...a rare adventure game in which the journey is actually more of a reward than the destination.”<br />\\r\\n100/100 – Slant Magazine<br />\\r\\n\", 'header_image': 'https://cdn.akamai.steamstatic.com/steam/apps/753640/header.jpg?t=1701451524', 'capsule_image': 'https://cdn.akamai.steamstatic.com/steam/apps/753640/capsule_231x87.jpg?t=1701451524', 'capsule_imagev5': 'https://cdn.akamai.steamstatic.com/steam/apps/753640/capsule_184x69.jpg?t=1701451524', 'website': None, 'pc_requirements': {'minimum': '<strong>Mínimos:</strong><br><ul class=\"bb_ul\"><li>Requer um sistema operativo e processador de 64 bits<br></li><li><strong>Sistema Operativo:</strong> Windows 10<br></li><li><strong>Processador:</strong> Intel Core i5-2300 | AMD FX-4350<br></li><li><strong>Memória:</strong> 6 GB de RAM<br></li><li><strong>Placa gráfica:</strong> Nvidia GeForce GTX 660, 2 GB | AMD Radeon HD 7870, 2 GB<br></li><li><strong>Espaço no disco:</strong> Requer 8 GB de espaço livre<br></li><li><strong>Notas adicionais:</strong> Gamepad or Controller Recommended (Xbox and PS4 Natively Supported)</li></ul>', 'recommended': '<strong>Recomendados:</strong><br><ul class=\"bb_ul\"><li>Requer um sistema operativo e processador de 64 bits<br></li><li><strong>Sistema Operativo:</strong> Windows 10<br></li><li><strong>Processador:</strong> Intel Core i5-8400 | AMD Ryzen 5 2600X<br></li><li><strong>Memória:</strong> 8 GB de RAM<br></li><li><strong>Placa gráfica:</strong> Nvidia GeForce GTX 1060 | AMD Radeon RX 580<br></li><li><strong>Espaço no disco:</strong> Requer 8 GB de espaço livre<br></li><li><strong>Notas adicionais:</strong> Gamepad or Controller Recommended (Xbox and PS4 Natively Supported)</li></ul>'}, 'mac_requirements': {'minimum': '<strong>Mínimos:</strong><br><ul class=\"bb_ul\"></ul>', 'recommended': '<strong>Recomendados:</strong><br><ul class=\"bb_ul\"></ul>'}, 'linux_requirements': {'minimum': '<strong>Mínimos:</strong><br><ul class=\"bb_ul\"></ul>', 'recommended': '<strong>Recomendados:</strong><br><ul class=\"bb_ul\"></ul>'}, 'legal_notice': '© 2020 Mobius Digital, LLC. Published by Annapurna Interactive under exclusive license. All rights reserved.', 'developers': ['Mobius Digital'], 'publishers': ['Annapurna Interactive'], 'price_overview': {'currency': 'BRL', 'initial': 5999, 'final': 5999, 'discount_percent': 0, 'initial_formatted': '', 'final_formatted': 'R$ 59,99'}, 'packages': [221672], 'package_groups': [{'name': 'default', 'title': 'Comprar Outer Wilds', 'description': '', 'selection_text': 'Seleciona uma opção de compra', 'save_text': '', 'display_type': 0, 'is_recurring_subscription': 'false', 'subs': [{'packageid': 221672, 'percent_savings_text': ' - ', 'percent_savings': 0, 'option_text': 'Outer Wilds - R$ 59,99', 'option_description': '', 'can_get_free_license': '0', 'is_free_license': False, 'price_in_cents_with_discount': 5999}]}], 'platforms': {'windows': True, 'mac': False, 'linux': False}, 'metacritic': {'score': 85, 'url': 'https://www.metacritic.com/game/pc/outer-wilds?ftag=MCD-06-10aaa1f'}, 'categories': [{'id': 2, 'description': 'Um jogador'}, {'id': 22, 'description': 'Proezas do Steam'}, {'id': 28, 'description': 'Compatibilidade c/ comando'}, {'id': 29, 'description': 'Cartas Colecionáveis'}, {'id': 23, 'description': 'Steam Cloud'}, {'id': 41, 'description': 'Remote Play no telemóvel'}, {'id': 42, 'description': 'Remote Play no tablet'}, {'id': 43, 'description': 'Remote Play na TV'}], 'genres': [{'id': '1', 'description': 'Ação'}, {'id': '25', 'description': 'Aventura'}], 'screenshots': [{'id': 0, 'path_thumbnail': 'https://cdn.akamai.steamstatic.com/steam/apps/753640/ss_ec95a283483f0438be40d033f08b9d956e748d54.600x338.jpg?t=1701451524', 'path_full': 'https://cdn.akamai.steamstatic.com/steam/apps/753640/ss_ec95a283483f0438be40d033f08b9d956e748d54.1920x1080.jpg?t=1701451524'}, {'id': 1, 'path_thumbnail': 'https://cdn.akamai.steamstatic.com/steam/apps/753640/ss_09f0fa8d9b8d7da1408cf4e03303d896cbd9be18.600x338.jpg?t=1701451524', 'path_full': 'https://cdn.akamai.steamstatic.com/steam/apps/753640/ss_09f0fa8d9b8d7da1408cf4e03303d896cbd9be18.1920x1080.jpg?t=1701451524'}, {'id': 2, 'path_thumbnail': 'https://cdn.akamai.steamstatic.com/steam/apps/753640/ss_c624a6b8edca0d451605592edd927dbcc14917a8.600x338.jpg?t=1701451524', 'path_full': 'https://cdn.akamai.steamstatic.com/steam/apps/753640/ss_c624a6b8edca0d451605592edd927dbcc14917a8.1920x1080.jpg?t=1701451524'}, {'id': 3, 'path_thumbnail': 'https://cdn.akamai.steamstatic.com/steam/apps/753640/ss_8683942f8d09eec32daeebe94867287424968f97.600x338.jpg?t=1701451524', 'path_full': 'https://cdn.akamai.steamstatic.com/steam/apps/753640/ss_8683942f8d09eec32daeebe94867287424968f97.1920x1080.jpg?t=1701451524'}, {'id': 4, 'path_thumbnail': 'https://cdn.akamai.steamstatic.com/steam/apps/753640/ss_fe4a6504c49efa6e7cb9ecda7aeddb6f7451a2cc.600x338.jpg?t=1701451524', 'path_full': 'https://cdn.akamai.steamstatic.com/steam/apps/753640/ss_fe4a6504c49efa6e7cb9ecda7aeddb6f7451a2cc.1920x1080.jpg?t=1701451524'}], 'movies': [{'id': 256778920, 'name': 'Outer Wilds | Accolades Trailer', 'thumbnail': 'https://cdn.akamai.steamstatic.com/steam/apps/256778920/movie.293x165.jpg?t=1585255228', 'webm': {'480': 'http://cdn.akamai.steamstatic.com/steam/apps/256778920/movie480.webm?t=1585255228', 'max': 'http://cdn.akamai.steamstatic.com/steam/apps/256778920/movie_max.webm?t=1585255228'}, 'mp4': {'480': 'http://cdn.akamai.steamstatic.com/steam/apps/256778920/movie480.mp4?t=1585255228', 'max': 'http://cdn.akamai.steamstatic.com/steam/apps/256778920/movie_max.mp4?t=1585255228'}, 'highlight': True}, {'id': 256711433, 'name': 'Outer Wilds | Reveal Trailer', 'thumbnail': 'https://cdn.akamai.steamstatic.com/steam/apps/256711433/movie.293x165.jpg?t=1521129497', 'webm': {'480': 'http://cdn.akamai.steamstatic.com/steam/apps/256711433/movie480.webm?t=1521129497', 'max': 'http://cdn.akamai.steamstatic.com/steam/apps/256711433/movie_max.webm?t=1521129497'}, 'mp4': {'480': 'http://cdn.akamai.steamstatic.com/steam/apps/256711433/movie480.mp4?t=1521129497', 'max': 'http://cdn.akamai.steamstatic.com/steam/apps/256711433/movie_max.mp4?t=1521129497'}, 'highlight': True}], 'recommendations': {'total': 49863}, 'achievements': {'total': 31, 'highlighted': [{'name': 'Teve um destino trágico.', 'path': 'https://cdn.akamai.steamstatic.com/steamcommunity/public/images/apps/753640/3f0cc0e885260bc8697f2a7767b2e3879290d37a.jpg'}, {'name': 'Ei, o que este botão faz?', 'path': 'https://cdn.akamai.steamstatic.com/steamcommunity/public/images/apps/753640/fe365ba19429c295dce8191fae63af67aaa1fb39.jpg'}, {'name': 'Habilidoso', 'path': 'https://cdn.akamai.steamstatic.com/steamcommunity/public/images/apps/753640/466c8ae77d7b7ce4d70c311182e23e0504e27a24.jpg'}, {'name': 'Valeu a tentativa.', 'path': 'https://cdn.akamai.steamstatic.com/steamcommunity/public/images/apps/753640/632f4a5b564a2c78e7b9c7231ded3826f6d4f768.jpg'}, {'name': 'Sorte de Principiante', 'path': 'https://cdn.akamai.steamstatic.com/steamcommunity/public/images/apps/753640/617964218e010cfde9b09ac8edd57b6794dc7d7c.jpg'}, {'name': 'Corpo Rígido', 'path': 'https://cdn.akamai.steamstatic.com/steamcommunity/public/images/apps/753640/0a8e8c5124e95af7a8fd2c7e651d4b95b78f1355.jpg'}, {'name': 'Do Recanto para a Lua', 'path': 'https://cdn.akamai.steamstatic.com/steamcommunity/public/images/apps/753640/5248e4639fa09843ae732ba67e930160dd86a13e.jpg'}, {'name': 'Impacto Profundo', 'path': 'https://cdn.akamai.steamstatic.com/steamcommunity/public/images/apps/753640/3fd9092f8a7df76ed790cd9ba5152c32dba69c8f.jpg'}, {'name': 'Convergência Harmônica', 'path': 'https://cdn.akamai.steamstatic.com/steamcommunity/public/images/apps/753640/0b95e73d94df841814037b31d723ec15ecd7eba6.jpg'}, {'name': 'Isso pertence a um museu!', 'path': 'https://cdn.akamai.steamstatic.com/steamcommunity/public/images/apps/753640/ff66fdc588ad5157ce617787646f31aacb189ea2.jpg'}]}, 'release_date': {'coming_soon': False, 'date': '18 jun. 2020'}, 'support_info': {'url': 'https://www.mobiusdigitalgames.com/supportforum.html', 'email': 'help@annapurnainteractive.com'}, 'background': 'https://cdn.akamai.steamstatic.com/steam/apps/753640/page_bg_generated_v6b.jpg?t=1701451524', 'background_raw': 'https://cdn.akamai.steamstatic.com/steam/apps/753640/page_bg_generated.jpg?t=1701451524', 'content_descriptors': {'ids': [], 'notes': None}}}}\n"
     ]
    }
   ],
   "source": [
    "gameid = \"753640\"\n",
    "game_overview = getGameOverview(appids=gameid)"
   ]
  },
  {
   "cell_type": "code",
   "execution_count": 7,
   "metadata": {},
   "outputs": [
    {
     "name": "stdout",
     "output_type": "stream",
     "text": [
      "{'desc': '<h1>You Might Also Like</h1><p><a href=\"https://store.steampowered.com/app/1497440/COCOON/\" target=\"_blank\" rel=\"\"  id=\"dynamiclink_0\" >https://store.steampowered.com/app/1497440/COCOON/</a><br><a href=\"https://store.steampowered.com/app/2008920/Lorelei_and_the_Laser_Eyes/\" target=\"_blank\" rel=\"\"  id=\"dynamiclink_1\" >https://store.steampowered.com/app/2008920/Lorelei_and_the_Laser_Eyes/</a></p><br><h1>Acerca do Jogo</h1>Winner of Best Game at the 2020 BAFTA Games Awards and named Game of the Year 2019 by Giant Bomb, Polygon, Eurogamer, and The Guardian, <i>Outer Wilds</i> is a critically-acclaimed and award-winning open world mystery about a solar system trapped in an endless time loop.<br><br><strong> Welcome to the Space Program!</strong><br>You\\'re the newest recruit of Outer Wilds Ventures, a fledgling space program searching for answers in a strange, constantly evolving solar system.<br><br><img src=\"https://cdn.akamai.steamstatic.com/steam/apps/753640/extras/OW1.png?t=1701451524\" /><br> <br><strong>Mysteries of the Solar System...</strong><br>What lurks in the heart of the ominous Dark Bramble? Who built the alien ruins on the Moon? Can the endless time loop be stopped? Answers await you in the most dangerous reaches of space.<br><br><img src=\"https://cdn.akamai.steamstatic.com/steam/apps/753640/extras/OW2.png?t=1701451524\" /><br> <br><strong>A World That Changes Over Time</strong><br>The planets of <i>Outer Wilds</i> are packed with hidden locations that change with the passage of time. Visit an underground city before it\\'s swallowed by sand, or explore the surface of a planet as it crumbles beneath your feet. Every secret is guarded by hazardous environments and natural catastrophes.<br><br><img src=\"https://cdn.akamai.steamstatic.com/steam/apps/753640/extras/OW4.png?t=1701451524\" /><br> <br><strong>Grab Your Intergalactic Hiking Gear!</strong><br>Strap on your hiking boots, check your oxygen levels, and get ready to venture into space. Use a variety of unique gadgets to probe your surroundings, track down mysterious signals, decipher ancient alien writing, and roast the perfect marshmallow.<br><br><img src=\"https://cdn.akamai.steamstatic.com/steam/apps/753640/extras/OW3.png?t=1701451524\" />', 'dev': 'Desenvolvido pela: Mobius Digital', 'pub': 'Distribuído pela: Annapurna Interactive', 'price': 'Preço na steam: R$ 59,99', 'genre': 'Ação', 'date': '18 jun. 2020', 'meta': 'Metacritic: 85', 'recomendations': 'Número de avaliações na steam: 49863', 'min_rec': 'Requisitos mínimos: <strong>Mínimos:</strong><br><ul class=\"bb_ul\"><li>Requer um sistema operativo e processador de 64 bits<br></li><li><strong>Sistema Operativo:</strong> Windows 10<br></li><li><strong>Processador:</strong> Intel Core i5-2300 | AMD FX-4350<br></li><li><strong>Memória:</strong> 6 GB de RAM<br></li><li><strong>Placa gráfica:</strong> Nvidia GeForce GTX 660, 2 GB | AMD Radeon HD 7870, 2 GB<br></li><li><strong>Espaço no disco:</strong> Requer 8 GB de espaço livre<br></li><li><strong>Notas adicionais:</strong> Gamepad or Controller Recommended (Xbox and PS4 Natively Supported)</li></ul>', 'max_rec': 'Requisitos recomendados: <strong>Recomendados:</strong><br><ul class=\"bb_ul\"><li>Requer um sistema operativo e processador de 64 bits<br></li><li><strong>Sistema Operativo:</strong> Windows 10<br></li><li><strong>Processador:</strong> Intel Core i5-8400 | AMD Ryzen 5 2600X<br></li><li><strong>Memória:</strong> 8 GB de RAM<br></li><li><strong>Placa gráfica:</strong> Nvidia GeForce GTX 1060 | AMD Radeon RX 580<br></li><li><strong>Espaço no disco:</strong> Requer 8 GB de espaço livre<br></li><li><strong>Notas adicionais:</strong> Gamepad or Controller Recommended (Xbox and PS4 Natively Supported)</li></ul>'}\n"
     ]
    }
   ],
   "source": [
    "print(game_overview)"
   ]
  },
  {
   "cell_type": "code",
   "execution_count": null,
   "metadata": {},
   "outputs": [],
   "source": [
    "#print(game_overview[gameid]['success'])\n",
    "\n",
    "#print(game_overview[gameid][\"data\"]['is_free'])\n",
    "\n",
    "print(game_overview[gameid][\"data\"]['detailed_description']) #\n",
    "\n",
    "print(\"Desenvolvido pela: \" + game_overview[gameid][\"data\"]['developers'][0]) # \n",
    "print(\"Distribuído pela: \" + game_overview[gameid][\"data\"]['publishers'][0]) #\n",
    "\n",
    "print(\"Preço na steam: \"+game_overview[gameid][\"data\"]['price_overview']['final_formatted']) #\n",
    "\n",
    "\n",
    "print(game_overview[gameid]['data']['genres'][0]['description']) #\n",
    "\n",
    "print(game_overview[gameid]['data']['release_date']['date']) #\n",
    "\n",
    "try:\n",
    "\n",
    "    print(\"Metacritic: \" + str(game_overview[gameid][\"data\"]['metacritic']['score'])) #\n",
    "\n",
    "except Exception as e:\n",
    "    print(\"Metacritic não disponível\") #\n",
    "\n",
    "try:\n",
    "    print(\"Número de avaliações na steam: \"+str(game_overview[gameid][\"data\"][\"recommendations\"]['total'])) #\n",
    "except:\n",
    "    print(\"Produto não avaliado\") #\n",
    "\n",
    "print(\"Requisitos mínimos: \" + game_overview[gameid]['data']['pc_requirements']['minimum'])\n",
    "\n",
    "print(\"Requisitos recomendados: \" + game_overview[gameid]['data']['pc_requirements']['recommended'])\n",
    "\n",
    "#game_overview[gameid]['data']"
   ]
  },
  {
   "cell_type": "markdown",
   "metadata": {},
   "source": [
    "## Retorno menor preço atual e histórico"
   ]
  },
  {
   "cell_type": "code",
   "execution_count": 8,
   "metadata": {},
   "outputs": [
    {
     "name": "stdout",
     "output_type": "stream",
     "text": [
      "<class 'dict'>\n"
     ]
    },
    {
     "data": {
      "text/plain": [
       "{'store_today': 'Epic Game Store',\n",
       " 'price_today': 'R$59.99',\n",
       " 'store_hist': 'Nuuvem',\n",
       " 'price_hist': 'R$24.99',\n",
       " 'price_url': 'https://isthereanydeal.com/game/outerwilds/history/',\n",
       " 'date': '14-04-2022'}"
      ]
     },
     "execution_count": 8,
     "metadata": {},
     "output_type": "execute_result"
    }
   ],
   "source": [
    "game_lowest = getGameLowest(gameid)\n",
    "game_lowest"
   ]
  },
  {
   "cell_type": "code",
   "execution_count": null,
   "metadata": {},
   "outputs": [],
   "source": [
    "print(type(game_lowest['data'][f\"app/{gameid}\"]))\n",
    "\n",
    "try:\n",
    "\n",
    "    print(game_lowest['data'][f\"app/{gameid}\"]['price']['store']) # today´s lowest\n",
    "    print(game_lowest['data'][f\"app/{gameid}\"]['price']['price_formatted'])\n",
    "\n",
    "except:\n",
    "    print(\"today == historical\")\n",
    "\n",
    "print(game_lowest['data'][f\"app/{gameid}\"]['lowest']['store']) # historical lowest\n",
    "print(game_lowest['data'][f\"app/{gameid}\"]['lowest']['price_formatted'])\n",
    "\n",
    "\n",
    "print(game_lowest['data'][f\"app/{gameid}\"]['urls']['history']) # price history site\n",
    "\n",
    "print(game_lowest['data'][f\"app/{gameid}\"]['lowest']['recorded'])\n",
    "\n",
    "data_formatada = datetime.utcfromtimestamp(game_lowest['data'][f\"app/{gameid}\"]['lowest']['recorded']).strftime('%d-%m-%Y') # dia do menor preço histórico\n",
    "\n",
    "print(data_formatada)"
   ]
  },
  {
   "cell_type": "markdown",
   "metadata": {},
   "source": [
    "## Retorno todos os preços do jogo"
   ]
  },
  {
   "cell_type": "code",
   "execution_count": 27,
   "metadata": {},
   "outputs": [],
   "source": [
    "#plainResponse = getGamePlains(gameid=gameid)\n",
    "#print(plainResponse)\n",
    "#game_plain = plainResponse['data'][f\"app/{gameid}\"]\n",
    "\n",
    "#print(game_plain)\n",
    "\n",
    "pricesResponse = getGamePrices(gameid)"
   ]
  },
  {
   "cell_type": "code",
   "execution_count": 29,
   "metadata": {},
   "outputs": [
    {
     "name": "stdout",
     "output_type": "stream",
     "text": [
      "<class 'dict'>\n"
     ]
    },
    {
     "data": {
      "text/plain": [
       "{'store_today': 'Epic Game Store',\n",
       " 'price_today': 'R$59.99',\n",
       " 'store_hist': 'Nuuvem',\n",
       " 'price_hist': 'R$24.99',\n",
       " 'price_url': 'https://isthereanydeal.com/game/outerwilds/history/',\n",
       " 'date': '14-04-2022'}"
      ]
     },
     "execution_count": 29,
     "metadata": {},
     "output_type": "execute_result"
    }
   ],
   "source": [
    "game_lowest = getGameLowest(gameid)\n",
    "game_lowest"
   ]
  },
  {
   "cell_type": "code",
   "execution_count": 28,
   "metadata": {},
   "outputs": [
    {
     "data": {
      "text/plain": [
       "['Epic Game Store: 59.99 -> 59.99 (0%)',\n",
       " 'Gamesload: 59.99 -> 59.99 (0%)',\n",
       " 'Steam: 59.99 -> 59.99 (0%)',\n",
       " 'GamersGate: 59.99 -> 59.99 (0%)',\n",
       " 'Nuuvem: 59.99 -> 59.99 (0%)',\n",
       " 'Dreamgame: 59.99 -> 59.99 (0%)',\n",
       " 'GreenManGaming: 59.99 -> 59.99 (0%)',\n",
       " 'GameBillet: 122.369 -> 83.1949 (32%)',\n",
       " 'Microsoft Store: 92.45 -> 92.45 (0%)',\n",
       " 'Fanatical: 122.516 -> 93.885 (23%)',\n",
       " 'Humble Store: 122.444 -> 122.444 (0%)',\n",
       " 'WinGameStore: 122.601 -> 122.601 (0%)',\n",
       " 'IndieGala Store: 123.403 -> 123.403 (0%)']"
      ]
     },
     "execution_count": 28,
     "metadata": {},
     "output_type": "execute_result"
    }
   ],
   "source": [
    "pricesResponse\n",
    "\n",
    "#pricesResponse['data'][plainResponse]"
   ]
  },
  {
   "cell_type": "code",
   "execution_count": null,
   "metadata": {},
   "outputs": [],
   "source": [
    "#pricesResponse['data'][game_plain]['list']\n",
    "print(pricesResponse)\n",
    "\n",
    "price_list = pricesResponse['data'][game_plain]['list']\n",
    "try:\n",
    "    if price_list == []:\n",
    "        print(\"sem lista\")\n",
    "    else:\n",
    "        for i in pricesResponse['data'][game_plain]['list']:\n",
    "            print(i['price_old'],i['price_new'],str(i['price_cut'])+\"%\",i['shop']['name'])\n",
    "except Exception as e:\n",
    "    print(\"sem lista\")"
   ]
  }
 ],
 "metadata": {
  "kernelspec": {
   "display_name": "Python 3",
   "language": "python",
   "name": "python3"
  },
  "language_info": {
   "codemirror_mode": {
    "name": "ipython",
    "version": 3
   },
   "file_extension": ".py",
   "mimetype": "text/x-python",
   "name": "python",
   "nbconvert_exporter": "python",
   "pygments_lexer": "ipython3",
   "version": "3.11.3"
  }
 },
 "nbformat": 4,
 "nbformat_minor": 2
}
