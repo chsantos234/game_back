{
 "cells": [
  {
   "cell_type": "code",
   "execution_count": 54,
   "metadata": {},
   "outputs": [],
   "source": [
    "import requests"
   ]
  },
  {
   "cell_type": "code",
   "execution_count": 55,
   "metadata": {},
   "outputs": [],
   "source": [
    "csUrl = \"https://www.cheapshark.com/api/1.0/\"\n",
    "\n",
    "def supCheapSharkExtractor(path,**kwargs) -> list:\n",
    "    \"\"\"\n",
    "    Comentário teste...\n",
    "    \"\"\" \n",
    "    send = csUrl + path\n",
    "\n",
    "    for key,value in kwargs.items():\n",
    "        if value != None: send += f\"{key}={value}&\"\n",
    "\n",
    "    print(send)\n",
    "\n",
    "    return requests.get(send).json()\n",
    "\n",
    "def getGameByTheme(title:str = None,size:int = 60) -> list:\n",
    "    \"\"\"\n",
    "    Retorna uma lista de jogos baseados em um tema.\n",
    "    \"\"\"\n",
    "    response = supCheapSharkExtractor(path=\"games?\",title=title,size=size)\n",
    "\n",
    "    response_id = []\n",
    "\n",
    "    for i in response: \n",
    "        if i['steamAppID'] != None: response_id.append(i)\n",
    "\n",
    "    return response_id"
   ]
  },
  {
   "cell_type": "code",
   "execution_count": 78,
   "metadata": {},
   "outputs": [],
   "source": [
    "stUrl = \"https://store.steampowered.com/api/\"\n",
    "\n",
    "def supSteamPoweredExtractor(path,**kwargs) -> list:\n",
    "    send = stUrl + path\n",
    "\n",
    "    for key,value in kwargs.items():\n",
    "        if value != None: send += f\"{key}={value}&\"\n",
    "\n",
    "    print(send)\n",
    "\n",
    "    return requests.get(send).json()\n",
    "\n",
    "def getGameOverview(appids:str = None):\n",
    "    response = supSteamPoweredExtractor(path=\"appdetails?\",appids=appids,cc=\"pt-br\")\n",
    "\n",
    "    return response"
   ]
  },
  {
   "cell_type": "code",
   "execution_count": 92,
   "metadata": {},
   "outputs": [],
   "source": [
    "from env import env\n",
    "\n",
    "adUrl = \"https://api.isthereanydeal.com/\"\n",
    "\n",
    "def supIsThereAnyDealExtractor(path,**kwargs) -> list: # to do: add key\n",
    "\n",
    "    send = adUrl + path\n",
    "\n",
    "    for key,value in kwargs.items():\n",
    "        if value != None: send += f\"{key}={value}&\"\n",
    "\n",
    "    print(send)\n",
    "\n",
    "    return requests.get(send).json()\n",
    "\n",
    "def getGameLowest(gameid:str = None):\n",
    "    response = supIsThereAnyDealExtractor(path=\"v01/game/overview/?\",key=env(\"AnyDealKey\"),country=\"BR\",shop=\"steam\",ids=f\"app/{gameid}\")\n",
    "    return response"
   ]
  },
  {
   "cell_type": "markdown",
   "metadata": {},
   "source": [
    "## Escolha do tema e jogo"
   ]
  },
  {
   "cell_type": "code",
   "execution_count": 57,
   "metadata": {},
   "outputs": [
    {
     "name": "stdout",
     "output_type": "stream",
     "text": [
      "https://www.cheapshark.com/api/1.0/games?title=batman&size=60&\n",
      "{'gameID': '167910', 'steamAppID': '502820', 'cheapest': '4.25', 'cheapestDealID': '%2F8EPOz0BuWW%2BjeEXm84xM7R%2ByPnNVlu3A2poW4BgFs8%3D', 'external': 'Batman: Arkham VR', 'internalName': 'BATMANARKHAMVR', 'thumb': 'https://cdn.cloudflare.steamstatic.com/steam/apps/502820/capsule_sm_120.jpg?t=1684483128'}\n",
      "{'gameID': '107598', 'steamAppID': '208650', 'cheapest': '3.50', 'cheapestDealID': 'xrR1oyeiglETA0Mx6jb63CC%2Ftsu1g1ydI3I2yULkkK8%3D', 'external': 'Batman: Arkham Knight', 'internalName': 'BATMANARKHAMKNIGHT', 'thumb': 'https://cdn.cloudflare.steamstatic.com/steam/apps/208650/capsule_sm_120.jpg?t=1694042300'}\n",
      "{'gameID': '97941', 'steamAppID': '209000', 'cheapest': '4.25', 'cheapestDealID': 'OzcvfN%2BE0UZVIyeWEn8Sv4uBvcHVPGAl7qcryIrr92g%3D', 'external': 'Batman: Arkham Origins', 'internalName': 'BATMANARKHAMORIGINS', 'thumb': 'https://cdn.cloudflare.steamstatic.com/steam/apps/209000/capsule_sm_120.jpg?t=1681234740'}\n",
      "{'gameID': '198317', 'steamAppID': '320795', 'cheapest': '7.25', 'cheapestDealID': 'TbThFJqL09v85IPQUBfA0viG11N%2BklkJMBtGuTQPeGw%3D', 'external': 'Batman: Arkham Collection', 'internalName': 'BATMANARKHAMCOLLECTION', 'thumb': 'https://cdn.cloudflare.steamstatic.com/steam/subs/320795/capsule_sm_120.jpg?t=1636658684'}\n",
      "{'gameID': '2425', 'steamAppID': '21000', 'cheapest': '4.99', 'cheapestDealID': '%2BO6Wtr7wWetChHL4HnewWiTKf%2FgeWgJ9XejXTatD7yA%3D', 'external': 'LEGO Batman: The Videogame', 'internalName': 'LEGOBATMANTHEVIDEOGAME', 'thumb': 'https://cdn.cloudflare.steamstatic.com/steam/apps/21000/capsule_sm_120.jpg?t=1681923978'}\n",
      "{'gameID': '126255', 'steamAppID': '313690', 'cheapest': '4.99', 'cheapestDealID': '8QSlACm5VKVKfpPGYfZGAL53NjNfbtqJJM4AZrET5%2BA%3D', 'external': 'LEGO Batman 3: Beyond Gotham', 'internalName': 'LEGOBATMAN3BEYONDGOTHAM', 'thumb': 'https://cdn.cloudflare.steamstatic.com/steam/apps/313690/capsule_sm_120.jpg?t=1573510385'}\n",
      "{'gameID': '155074', 'steamAppID': '498240', 'cheapest': '7.49', 'cheapestDealID': 'PevHNbPbilGsyYhglqDoVMb60JUPRdfzOAWC49QwvfY%3D', 'external': 'Batman - The Telltale Series', 'internalName': 'BATMANTHETELLTALESERIES', 'thumb': 'https://cdn.cloudflare.steamstatic.com/steam/apps/498240/capsule_sm_120.jpg?t=1686747257'}\n",
      "{'gameID': '88269', 'steamAppID': '213330', 'cheapest': '4.99', 'cheapestDealID': 'WkZYFLKPzkq7i7hiZ87z%2FCXEUQn%2Ba1JqJwQO2Nn5UKI%3D', 'external': 'LEGO Batman 2: DC Super Heroes', 'internalName': 'LEGOBATMAN2DCSUPERHEROES', 'thumb': 'https://cdn.cloudflare.steamstatic.com/steam/apps/213330/capsule_sm_120.jpg?t=1681923916'}\n",
      "{'gameID': '89095', 'steamAppID': '200260', 'cheapest': '14.99', 'cheapestDealID': 'rdslx2fwWStfStElmDsnsty2NUp3koHnelpa9zLgEM8%3D', 'external': 'Batman Arkham City Game of the Year Edition', 'internalName': 'BATMANARKHAMCITYGAMEOFTHEYEAREDITION', 'thumb': 'https://cdn.cloudflare.steamstatic.com/steam/apps/200260/capsule_sm_120.jpg?t=1681938743'}\n",
      "{'gameID': '171102', 'steamAppID': '675260', 'cheapest': '7.49', 'cheapestDealID': 'ZULTS%2Fwiov2BgnO2vHZzv1tR3deZ44OqHxblONv3oVs%3D', 'external': 'Batman: The Enemy Within - The Telltale Series', 'internalName': 'BATMANTHEENEMYWITHINTHETELLTALESERIES', 'thumb': 'https://cdn.cloudflare.steamstatic.com/steam/apps/675260/capsule_sm_120.jpg?t=1686747613'}\n",
      "{'gameID': '146', 'steamAppID': '35140', 'cheapest': '14.99', 'cheapestDealID': 'cqgbEYEDBgfjCS%2F%2FVjVMTrZJNwE0GecTvUBFn1ktNlI%3D', 'external': 'Batman: Arkham Asylum Game of the Year Edition', 'internalName': 'BATMANARKHAMASYLUMGAMEOFTHEYEAREDITION', 'thumb': 'https://cdn.cloudflare.steamstatic.com/steam/apps/35140/capsule_sm_120.jpg?t=1681938587'}\n",
      "{'gameID': '107869', 'steamAppID': '267490', 'cheapest': '4.25', 'cheapestDealID': 'HBrwwsKjJ9Dl8i816fwyoS%2BTtLBYVLTj9DwH0591MTU%3D', 'external': 'Batman: Arkham Origins Blackgate - Deluxe Edition', 'internalName': 'BATMANARKHAMORIGINSBLACKGATEDELUXEEDITION', 'thumb': 'https://cdn.cloudflare.steamstatic.com/steam/apps/267490/capsule_sm_120.jpg?t=1651865751'}\n"
     ]
    }
   ],
   "source": [
    "response = getGameByTheme(title=\"batman\")\n",
    "\n",
    "response_id = []\n",
    "\n",
    "for i in response: \n",
    "    if i['steamAppID'] != None: response_id.append(i)\n",
    "\n",
    "for i in response_id:\n",
    "    print(i)"
   ]
  },
  {
   "cell_type": "markdown",
   "metadata": {},
   "source": [
    "## Retorno do overview"
   ]
  },
  {
   "cell_type": "code",
   "execution_count": 79,
   "metadata": {},
   "outputs": [
    {
     "name": "stdout",
     "output_type": "stream",
     "text": [
      "https://store.steampowered.com/api/appdetails?appids=498240&cc=pt-br&\n"
     ]
    }
   ],
   "source": [
    "gameid = \"498240\"\n",
    "game_overview = getGameOverview(appids=gameid)"
   ]
  },
  {
   "cell_type": "code",
   "execution_count": 80,
   "metadata": {},
   "outputs": [
    {
     "name": "stdout",
     "output_type": "stream",
     "text": [
      "{'498240': {'success': True, 'data': {'type': 'game', 'name': 'Batman - The Telltale Series', 'steam_appid': 498240, 'required_age': 0, 'is_free': False, 'controller_support': 'full', 'dlc': [1182000], 'detailed_description': \"Enter the fractured psyche of Bruce Wayne and discover the powerful and far-reaching consequences of your choices as the Dark Knight. <br />\\r\\n<br />\\r\\nIn this gritty and violent new story from the award-winning creators of The Walking Dead – A Telltale Games Series, you'll make discoveries that will shatter Bruce Wayne's world, and the already fragile stability of a corrupt Gotham City. <br />\\r\\n<br />\\r\\nYour actions and your choices will determine the fate of the Batman.<br />\\r\\n<br />\\r\\nIncludes access to all five episodes (all episodes available now!) in this all-new series from the award-winning studio, Telltale Games.<br />\\r\\n<br />\\r\\nEpisode 1: Realm of Shadows<br />\\r\\nEpisode 2: Children of Arkham<br />\\r\\nEpisode 3: New World Order<br />\\r\\nEpisode 4: Guardian of Gotham<br />\\r\\nEpisode 5: City of Light<br />\\r\\n<br />\\r\\n****If you are experiencing performance issues, you may need to update the graphics card drivers to the latest available. If you are using a laptop, please use your dedicated graphics and not Intel integrated graphics.*****\", 'about_the_game': \"Enter the fractured psyche of Bruce Wayne and discover the powerful and far-reaching consequences of your choices as the Dark Knight. <br />\\r\\n<br />\\r\\nIn this gritty and violent new story from the award-winning creators of The Walking Dead – A Telltale Games Series, you'll make discoveries that will shatter Bruce Wayne's world, and the already fragile stability of a corrupt Gotham City. <br />\\r\\n<br />\\r\\nYour actions and your choices will determine the fate of the Batman.<br />\\r\\n<br />\\r\\nIncludes access to all five episodes (all episodes available now!) in this all-new series from the award-winning studio, Telltale Games.<br />\\r\\n<br />\\r\\nEpisode 1: Realm of Shadows<br />\\r\\nEpisode 2: Children of Arkham<br />\\r\\nEpisode 3: New World Order<br />\\r\\nEpisode 4: Guardian of Gotham<br />\\r\\nEpisode 5: City of Light<br />\\r\\n<br />\\r\\n****If you are experiencing performance issues, you may need to update the graphics card drivers to the latest available. If you are using a laptop, please use your dedicated graphics and not Intel integrated graphics.*****\", 'short_description': 'Enter the fractured psyche of Bruce Wayne and discover the powerful and far-reaching consequences of your choices as the Dark Knight.', 'supported_languages': 'English<strong>*</strong>, French, German, Spanish - Spain, Arabic, Portuguese - Brazil, Russian, Simplified Chinese, Traditional Chinese<br><strong>*</strong>languages with full audio support', 'header_image': 'https://cdn.akamai.steamstatic.com/steam/apps/498240/header.jpg?t=1686747257', 'capsule_image': 'https://cdn.akamai.steamstatic.com/steam/apps/498240/capsule_231x87.jpg?t=1686747257', 'capsule_imagev5': 'https://cdn.akamai.steamstatic.com/steam/apps/498240/capsule_184x69.jpg?t=1686747257', 'website': 'https://www.telltalegames.com/batman/', 'pc_requirements': {'minimum': '<strong>Minimum:</strong><br><ul class=\"bb_ul\"><li><strong>OS:</strong> Windows 7 64Bit Service Pack 1<br></li><li><strong>Processor:</strong> Intel Core 2 Duo 2.4GHz<br></li><li><strong>Memory:</strong> 3 GB RAM<br></li><li><strong>Graphics:</strong> Nvidia GTS 450+ with 1024MB+ VRAM (excluding GT) - LATEST DRIVERS REQUIRED<br></li><li><strong>DirectX:</strong> Version 11<br></li><li><strong>Additional Notes:</strong> Not Recommended for Intel integrated graphics</li></ul>'}, 'mac_requirements': {'minimum': '<strong>Minimum:</strong><br><ul class=\"bb_ul\"><li><strong>OS:</strong> OSX 10.9 or Higher<br></li><li><strong>Processor:</strong> 3.3 GHz Equivalent CPU<br></li><li><strong>Memory:</strong> 6 GB RAM<br></li><li><strong>Graphics:</strong> OpenGL 3 Compatible GPU with 1GB Video RAM<br></li><li><strong>Additional Notes:</strong> Not recommended for Intel integrated graphics or Mac Minis or early-generation MacBook</li></ul>'}, 'linux_requirements': [], 'legal_notice': 'Software Code © 2016-2020 LCG Entertainment, Inc. Telltale, Telltale Games, and the Telltale logo are trademarks and/or registered trademarks of LCG Entertainment, Inc. All rights reserved. All other elements ©2016 DC Comics.  BATMAN and all related characters, their distinctive likenesses, and related elements are the property of DC Comics.  ™ & © 2016. WBIE LOGO, WB SHIELD: ™ & © Warner Bros. Entertainment Inc.', 'developers': ['Telltale'], 'publishers': ['Telltale'], 'price_overview': {'currency': 'BRL', 'initial': 5000, 'final': 5000, 'discount_percent': 0, 'initial_formatted': '', 'final_formatted': 'R$ 50,00'}, 'packages': [113930], 'package_groups': [{'name': 'default', 'title': 'Buy Batman - The Telltale Series', 'description': '', 'selection_text': 'Select a purchase option', 'save_text': '', 'display_type': 0, 'is_recurring_subscription': 'false', 'subs': [{'packageid': 113930, 'percent_savings_text': ' ', 'percent_savings': 0, 'option_text': 'Batman: The Telltale Series - R$ 50,00', 'option_description': '', 'can_get_free_license': '0', 'is_free_license': False, 'price_in_cents_with_discount': 5000}]}], 'platforms': {'windows': True, 'mac': False, 'linux': False}, 'categories': [{'id': 2, 'description': 'Single-player'}, {'id': 22, 'description': 'Steam Achievements'}, {'id': 28, 'description': 'Full controller support'}], 'genres': [{'id': '25', 'description': 'Adventure'}], 'screenshots': [{'id': 0, 'path_thumbnail': 'https://cdn.akamai.steamstatic.com/steam/apps/498240/ss_ec3881ec1fe8b001294cb71ff8c30833326c5a58.600x338.jpg?t=1686747257', 'path_full': 'https://cdn.akamai.steamstatic.com/steam/apps/498240/ss_ec3881ec1fe8b001294cb71ff8c30833326c5a58.1920x1080.jpg?t=1686747257'}, {'id': 1, 'path_thumbnail': 'https://cdn.akamai.steamstatic.com/steam/apps/498240/ss_94a2196d67ba1583eac67fde1985071ba6212c86.600x338.jpg?t=1686747257', 'path_full': 'https://cdn.akamai.steamstatic.com/steam/apps/498240/ss_94a2196d67ba1583eac67fde1985071ba6212c86.1920x1080.jpg?t=1686747257'}, {'id': 2, 'path_thumbnail': 'https://cdn.akamai.steamstatic.com/steam/apps/498240/ss_d581887c6f2001c0be467717ba909e2d0800d9a4.600x338.jpg?t=1686747257', 'path_full': 'https://cdn.akamai.steamstatic.com/steam/apps/498240/ss_d581887c6f2001c0be467717ba909e2d0800d9a4.1920x1080.jpg?t=1686747257'}, {'id': 3, 'path_thumbnail': 'https://cdn.akamai.steamstatic.com/steam/apps/498240/ss_0b79adea1ebd9b9098923cdbec846a770a41e728.600x338.jpg?t=1686747257', 'path_full': 'https://cdn.akamai.steamstatic.com/steam/apps/498240/ss_0b79adea1ebd9b9098923cdbec846a770a41e728.1920x1080.jpg?t=1686747257'}, {'id': 4, 'path_thumbnail': 'https://cdn.akamai.steamstatic.com/steam/apps/498240/ss_b5aa9c6cae290e690cc7358e03ec57d0a85ead2c.600x338.jpg?t=1686747257', 'path_full': 'https://cdn.akamai.steamstatic.com/steam/apps/498240/ss_b5aa9c6cae290e690cc7358e03ec57d0a85ead2c.1920x1080.jpg?t=1686747257'}, {'id': 5, 'path_thumbnail': 'https://cdn.akamai.steamstatic.com/steam/apps/498240/ss_172ec0b65363024e2f21aa2efbecbce9cfc02fe6.600x338.jpg?t=1686747257', 'path_full': 'https://cdn.akamai.steamstatic.com/steam/apps/498240/ss_172ec0b65363024e2f21aa2efbecbce9cfc02fe6.1920x1080.jpg?t=1686747257'}, {'id': 6, 'path_thumbnail': 'https://cdn.akamai.steamstatic.com/steam/apps/498240/ss_2a57829b8b04722a7b9d1cd3963ee739f9483235.600x338.jpg?t=1686747257', 'path_full': 'https://cdn.akamai.steamstatic.com/steam/apps/498240/ss_2a57829b8b04722a7b9d1cd3963ee739f9483235.1920x1080.jpg?t=1686747257'}, {'id': 7, 'path_thumbnail': 'https://cdn.akamai.steamstatic.com/steam/apps/498240/ss_c846c53a91dc0370e8d8249bf0a870a9e87fcfc5.600x338.jpg?t=1686747257', 'path_full': 'https://cdn.akamai.steamstatic.com/steam/apps/498240/ss_c846c53a91dc0370e8d8249bf0a870a9e87fcfc5.1920x1080.jpg?t=1686747257'}, {'id': 8, 'path_thumbnail': 'https://cdn.akamai.steamstatic.com/steam/apps/498240/ss_77356ce8f1de93801718656b6c9e97a490d434b4.600x338.jpg?t=1686747257', 'path_full': 'https://cdn.akamai.steamstatic.com/steam/apps/498240/ss_77356ce8f1de93801718656b6c9e97a490d434b4.1920x1080.jpg?t=1686747257'}, {'id': 9, 'path_thumbnail': 'https://cdn.akamai.steamstatic.com/steam/apps/498240/ss_e0b2c6ef79212eaf8f16e23445a9fe23e776d9b3.600x338.jpg?t=1686747257', 'path_full': 'https://cdn.akamai.steamstatic.com/steam/apps/498240/ss_e0b2c6ef79212eaf8f16e23445a9fe23e776d9b3.1920x1080.jpg?t=1686747257'}, {'id': 10, 'path_thumbnail': 'https://cdn.akamai.steamstatic.com/steam/apps/498240/ss_5b409182a69b05fb8c82a8d43e4e1fa22a3d646d.600x338.jpg?t=1686747257', 'path_full': 'https://cdn.akamai.steamstatic.com/steam/apps/498240/ss_5b409182a69b05fb8c82a8d43e4e1fa22a3d646d.1920x1080.jpg?t=1686747257'}, {'id': 11, 'path_thumbnail': 'https://cdn.akamai.steamstatic.com/steam/apps/498240/ss_9ba63202efa6528a986ac9d472d3634a13d604e8.600x338.jpg?t=1686747257', 'path_full': 'https://cdn.akamai.steamstatic.com/steam/apps/498240/ss_9ba63202efa6528a986ac9d472d3634a13d604e8.1920x1080.jpg?t=1686747257'}, {'id': 12, 'path_thumbnail': 'https://cdn.akamai.steamstatic.com/steam/apps/498240/ss_32686845e963e8c7bcb5d4d3c988db1d1dadd406.600x338.jpg?t=1686747257', 'path_full': 'https://cdn.akamai.steamstatic.com/steam/apps/498240/ss_32686845e963e8c7bcb5d4d3c988db1d1dadd406.1920x1080.jpg?t=1686747257'}, {'id': 13, 'path_thumbnail': 'https://cdn.akamai.steamstatic.com/steam/apps/498240/ss_f0346c16592c420e595eb29a93b49afbc54e4472.600x338.jpg?t=1686747257', 'path_full': 'https://cdn.akamai.steamstatic.com/steam/apps/498240/ss_f0346c16592c420e595eb29a93b49afbc54e4472.1920x1080.jpg?t=1686747257'}, {'id': 14, 'path_thumbnail': 'https://cdn.akamai.steamstatic.com/steam/apps/498240/ss_41245a26c0296b751b87602d8ef6cc090d6cf494.600x338.jpg?t=1686747257', 'path_full': 'https://cdn.akamai.steamstatic.com/steam/apps/498240/ss_41245a26c0296b751b87602d8ef6cc090d6cf494.1920x1080.jpg?t=1686747257'}, {'id': 15, 'path_thumbnail': 'https://cdn.akamai.steamstatic.com/steam/apps/498240/ss_ba2315925031ea016dc790b5a75b8946f0427e9d.600x338.jpg?t=1686747257', 'path_full': 'https://cdn.akamai.steamstatic.com/steam/apps/498240/ss_ba2315925031ea016dc790b5a75b8946f0427e9d.1920x1080.jpg?t=1686747257'}, {'id': 16, 'path_thumbnail': 'https://cdn.akamai.steamstatic.com/steam/apps/498240/ss_fad14f998970947ecfedcd27797cd780b1f71a87.600x338.jpg?t=1686747257', 'path_full': 'https://cdn.akamai.steamstatic.com/steam/apps/498240/ss_fad14f998970947ecfedcd27797cd780b1f71a87.1920x1080.jpg?t=1686747257'}, {'id': 17, 'path_thumbnail': 'https://cdn.akamai.steamstatic.com/steam/apps/498240/ss_b3e10fdc04ee2bce0d4f7b47daf259618d662f0f.600x338.jpg?t=1686747257', 'path_full': 'https://cdn.akamai.steamstatic.com/steam/apps/498240/ss_b3e10fdc04ee2bce0d4f7b47daf259618d662f0f.1920x1080.jpg?t=1686747257'}, {'id': 18, 'path_thumbnail': 'https://cdn.akamai.steamstatic.com/steam/apps/498240/ss_cec28ceb989573f87f87528c244d1a6d0e24a3c1.600x338.jpg?t=1686747257', 'path_full': 'https://cdn.akamai.steamstatic.com/steam/apps/498240/ss_cec28ceb989573f87f87528c244d1a6d0e24a3c1.1920x1080.jpg?t=1686747257'}, {'id': 19, 'path_thumbnail': 'https://cdn.akamai.steamstatic.com/steam/apps/498240/ss_1c8090bacbe321b2824af3177825f8e0237ab5f8.600x338.jpg?t=1686747257', 'path_full': 'https://cdn.akamai.steamstatic.com/steam/apps/498240/ss_1c8090bacbe321b2824af3177825f8e0237ab5f8.1920x1080.jpg?t=1686747257'}, {'id': 20, 'path_thumbnail': 'https://cdn.akamai.steamstatic.com/steam/apps/498240/ss_afaa21140e9acbfc0be644d7bbff26e041803fc8.600x338.jpg?t=1686747257', 'path_full': 'https://cdn.akamai.steamstatic.com/steam/apps/498240/ss_afaa21140e9acbfc0be644d7bbff26e041803fc8.1920x1080.jpg?t=1686747257'}, {'id': 21, 'path_thumbnail': 'https://cdn.akamai.steamstatic.com/steam/apps/498240/ss_441cd53e58a4f70602f063eee6322a3b82781b64.600x338.jpg?t=1686747257', 'path_full': 'https://cdn.akamai.steamstatic.com/steam/apps/498240/ss_441cd53e58a4f70602f063eee6322a3b82781b64.1920x1080.jpg?t=1686747257'}, {'id': 22, 'path_thumbnail': 'https://cdn.akamai.steamstatic.com/steam/apps/498240/ss_ef8185a263f9fc3cdb7eccc91e370299917a30d7.600x338.jpg?t=1686747257', 'path_full': 'https://cdn.akamai.steamstatic.com/steam/apps/498240/ss_ef8185a263f9fc3cdb7eccc91e370299917a30d7.1920x1080.jpg?t=1686747257'}, {'id': 23, 'path_thumbnail': 'https://cdn.akamai.steamstatic.com/steam/apps/498240/ss_c12516b80b0e1d987b726883e5b299cc9b29e769.600x338.jpg?t=1686747257', 'path_full': 'https://cdn.akamai.steamstatic.com/steam/apps/498240/ss_c12516b80b0e1d987b726883e5b299cc9b29e769.1920x1080.jpg?t=1686747257'}, {'id': 24, 'path_thumbnail': 'https://cdn.akamai.steamstatic.com/steam/apps/498240/ss_ac3c448dc77bc1938958109de90691b4bb9cdb7c.600x338.jpg?t=1686747257', 'path_full': 'https://cdn.akamai.steamstatic.com/steam/apps/498240/ss_ac3c448dc77bc1938958109de90691b4bb9cdb7c.1920x1080.jpg?t=1686747257'}], 'movies': [{'id': 256676890, 'name': 'Batman - The Telltale Series - Season Accolades Trailer', 'thumbnail': 'https://cdn.akamai.steamstatic.com/steam/apps/256676890/movie.293x165.jpg?t=1482370328', 'webm': {'480': 'http://cdn.akamai.steamstatic.com/steam/apps/256676890/movie480.webm?t=1482370328', 'max': 'http://cdn.akamai.steamstatic.com/steam/apps/256676890/movie_max.webm?t=1482370328'}, 'mp4': {'480': 'http://cdn.akamai.steamstatic.com/steam/apps/256676890/movie480.mp4?t=1482370328', 'max': 'http://cdn.akamai.steamstatic.com/steam/apps/256676890/movie_max.mp4?t=1482370328'}, 'highlight': True}, {'id': 256676273, 'name': 'Batman - The Telltale Series - Episode 5 Launch Trailer', 'thumbnail': 'https://cdn.akamai.steamstatic.com/steam/apps/256676273/movie.293x165.jpg?t=1481696125', 'webm': {'480': 'http://cdn.akamai.steamstatic.com/steam/apps/256676273/movie480.webm?t=1481696125', 'max': 'http://cdn.akamai.steamstatic.com/steam/apps/256676273/movie_max.webm?t=1481696125'}, 'mp4': {'480': 'http://cdn.akamai.steamstatic.com/steam/apps/256676273/movie480.mp4?t=1481696125', 'max': 'http://cdn.akamai.steamstatic.com/steam/apps/256676273/movie_max.mp4?t=1481696125'}, 'highlight': True}, {'id': 256675163, 'name': 'Batman - The Telltale Series - Episode 4 Launch Trailer', 'thumbnail': 'https://cdn.akamai.steamstatic.com/steam/apps/256675163/movie.293x165.jpg?t=1481696135', 'webm': {'480': 'http://cdn.akamai.steamstatic.com/steam/apps/256675163/movie480.webm?t=1481696135', 'max': 'http://cdn.akamai.steamstatic.com/steam/apps/256675163/movie_max.webm?t=1481696135'}, 'mp4': {'480': 'http://cdn.akamai.steamstatic.com/steam/apps/256675163/movie480.mp4?t=1481696135', 'max': 'http://cdn.akamai.steamstatic.com/steam/apps/256675163/movie_max.mp4?t=1481696135'}, 'highlight': True}, {'id': 256673189, 'name': 'Batman - The Telltale Series - Episode 3 Launch Trailer', 'thumbnail': 'https://cdn.akamai.steamstatic.com/steam/apps/256673189/movie.293x165.jpg?t=1477415240', 'webm': {'480': 'http://cdn.akamai.steamstatic.com/steam/apps/256673189/movie480.webm?t=1477415240', 'max': 'http://cdn.akamai.steamstatic.com/steam/apps/256673189/movie_max.webm?t=1477415240'}, 'mp4': {'480': 'http://cdn.akamai.steamstatic.com/steam/apps/256673189/movie480.mp4?t=1477415240', 'max': 'http://cdn.akamai.steamstatic.com/steam/apps/256673189/movie_max.mp4?t=1477415240'}, 'highlight': True}, {'id': 256670854, 'name': 'Batman - The Telltale Series - Episode 2 Launch Trailer', 'thumbnail': 'https://cdn.akamai.steamstatic.com/steam/apps/256670854/movie.293x165.jpg?t=1474390847', 'webm': {'480': 'http://cdn.akamai.steamstatic.com/steam/apps/256670854/movie480.webm?t=1474390847', 'max': 'http://cdn.akamai.steamstatic.com/steam/apps/256670854/movie_max.webm?t=1474390847'}, 'mp4': {'480': 'http://cdn.akamai.steamstatic.com/steam/apps/256670854/movie480.mp4?t=1474390847', 'max': 'http://cdn.akamai.steamstatic.com/steam/apps/256670854/movie_max.mp4?t=1474390847'}, 'highlight': True}, {'id': 256667223, 'name': 'Debut Trailer', 'thumbnail': 'https://cdn.akamai.steamstatic.com/steam/apps/256667223/movie.293x165.jpg?t=1468940460', 'webm': {'480': 'http://cdn.akamai.steamstatic.com/steam/apps/256667223/movie480.webm?t=1468940460', 'max': 'http://cdn.akamai.steamstatic.com/steam/apps/256667223/movie_max.webm?t=1468940460'}, 'mp4': {'480': 'http://cdn.akamai.steamstatic.com/steam/apps/256667223/movie480.mp4?t=1468940460', 'max': 'http://cdn.akamai.steamstatic.com/steam/apps/256667223/movie_max.mp4?t=1468940460'}, 'highlight': True}], 'recommendations': {'total': 11871}, 'achievements': {'total': 30, 'highlighted': [{'name': 'Welcome to Gotham', 'path': 'https://cdn.akamai.steamstatic.com/steamcommunity/public/images/apps/498240/5340b73b6d811acf0aabb6f431a5c9ab76a31724.jpg'}, {'name': 'The One that Got Away', 'path': 'https://cdn.akamai.steamstatic.com/steamcommunity/public/images/apps/498240/d132b18c072ca4d5d454205644d667253ddce360.jpg'}, {'name': 'Meet the Press', 'path': 'https://cdn.akamai.steamstatic.com/steamcommunity/public/images/apps/498240/752b22b885ed96c7a7dd5e0b77f1a0ddfb3608ef.jpg'}, {'name': \"World's Greatest Detective\", 'path': 'https://cdn.akamai.steamstatic.com/steamcommunity/public/images/apps/498240/bd980c0cad268fef2f310c4e525cee1bac2e9514.jpg'}, {'name': 'Room with a View', 'path': 'https://cdn.akamai.steamstatic.com/steamcommunity/public/images/apps/498240/a32832dd22879ae894f53bd1c96b51a0031b86a8.jpg'}, {'name': 'Family Secrets', 'path': 'https://cdn.akamai.steamstatic.com/steamcommunity/public/images/apps/498240/1ecf573aa427cf3012b09f4bc572e19278522918.jpg'}, {'name': 'Broken Memories', 'path': 'https://cdn.akamai.steamstatic.com/steamcommunity/public/images/apps/498240/e4fefc4dec590dc915aa26a1f17f99ea90ecec43.jpg'}, {'name': 'The Children', 'path': 'https://cdn.akamai.steamstatic.com/steamcommunity/public/images/apps/498240/14f43353c70d1a8a2a223a186e702a436c4e4818.jpg'}, {'name': 'A Big Fan', 'path': 'https://cdn.akamai.steamstatic.com/steamcommunity/public/images/apps/498240/5d7d0ecf96bee455f611693758ae0e0353fc09c6.jpg'}, {'name': 'Two of a Kind', 'path': 'https://cdn.akamai.steamstatic.com/steamcommunity/public/images/apps/498240/25f47697be28465307e5f84b37f288660f659b3d.jpg'}]}, 'release_date': {'coming_soon': False, 'date': '2 Aug, 2016'}, 'support_info': {'url': 'https://www.telltale.com/player-support/', 'email': ''}, 'background': 'https://cdn.akamai.steamstatic.com/steam/apps/498240/page_bg_generated_v6b.jpg?t=1686747257', 'background_raw': 'https://cdn.akamai.steamstatic.com/steam/apps/498240/page.bg.jpg?t=1686747257', 'content_descriptors': {'ids': [], 'notes': None}}}}\n"
     ]
    }
   ],
   "source": [
    "print(game_overview)"
   ]
  },
  {
   "cell_type": "code",
   "execution_count": 113,
   "metadata": {},
   "outputs": [
    {
     "data": {
      "text/plain": [
       "{'type': 'game',\n",
       " 'name': 'Batman - The Telltale Series',\n",
       " 'steam_appid': 498240,\n",
       " 'required_age': 0,\n",
       " 'is_free': False,\n",
       " 'controller_support': 'full',\n",
       " 'dlc': [1182000],\n",
       " 'detailed_description': \"Enter the fractured psyche of Bruce Wayne and discover the powerful and far-reaching consequences of your choices as the Dark Knight. <br />\\r\\n<br />\\r\\nIn this gritty and violent new story from the award-winning creators of The Walking Dead – A Telltale Games Series, you'll make discoveries that will shatter Bruce Wayne's world, and the already fragile stability of a corrupt Gotham City. <br />\\r\\n<br />\\r\\nYour actions and your choices will determine the fate of the Batman.<br />\\r\\n<br />\\r\\nIncludes access to all five episodes (all episodes available now!) in this all-new series from the award-winning studio, Telltale Games.<br />\\r\\n<br />\\r\\nEpisode 1: Realm of Shadows<br />\\r\\nEpisode 2: Children of Arkham<br />\\r\\nEpisode 3: New World Order<br />\\r\\nEpisode 4: Guardian of Gotham<br />\\r\\nEpisode 5: City of Light<br />\\r\\n<br />\\r\\n****If you are experiencing performance issues, you may need to update the graphics card drivers to the latest available. If you are using a laptop, please use your dedicated graphics and not Intel integrated graphics.*****\",\n",
       " 'about_the_game': \"Enter the fractured psyche of Bruce Wayne and discover the powerful and far-reaching consequences of your choices as the Dark Knight. <br />\\r\\n<br />\\r\\nIn this gritty and violent new story from the award-winning creators of The Walking Dead – A Telltale Games Series, you'll make discoveries that will shatter Bruce Wayne's world, and the already fragile stability of a corrupt Gotham City. <br />\\r\\n<br />\\r\\nYour actions and your choices will determine the fate of the Batman.<br />\\r\\n<br />\\r\\nIncludes access to all five episodes (all episodes available now!) in this all-new series from the award-winning studio, Telltale Games.<br />\\r\\n<br />\\r\\nEpisode 1: Realm of Shadows<br />\\r\\nEpisode 2: Children of Arkham<br />\\r\\nEpisode 3: New World Order<br />\\r\\nEpisode 4: Guardian of Gotham<br />\\r\\nEpisode 5: City of Light<br />\\r\\n<br />\\r\\n****If you are experiencing performance issues, you may need to update the graphics card drivers to the latest available. If you are using a laptop, please use your dedicated graphics and not Intel integrated graphics.*****\",\n",
       " 'short_description': 'Enter the fractured psyche of Bruce Wayne and discover the powerful and far-reaching consequences of your choices as the Dark Knight.',\n",
       " 'supported_languages': 'English<strong>*</strong>, French, German, Spanish - Spain, Arabic, Portuguese - Brazil, Russian, Simplified Chinese, Traditional Chinese<br><strong>*</strong>languages with full audio support',\n",
       " 'header_image': 'https://cdn.akamai.steamstatic.com/steam/apps/498240/header.jpg?t=1686747257',\n",
       " 'capsule_image': 'https://cdn.akamai.steamstatic.com/steam/apps/498240/capsule_231x87.jpg?t=1686747257',\n",
       " 'capsule_imagev5': 'https://cdn.akamai.steamstatic.com/steam/apps/498240/capsule_184x69.jpg?t=1686747257',\n",
       " 'website': 'https://www.telltalegames.com/batman/',\n",
       " 'pc_requirements': {'minimum': '<strong>Minimum:</strong><br><ul class=\"bb_ul\"><li><strong>OS:</strong> Windows 7 64Bit Service Pack 1<br></li><li><strong>Processor:</strong> Intel Core 2 Duo 2.4GHz<br></li><li><strong>Memory:</strong> 3 GB RAM<br></li><li><strong>Graphics:</strong> Nvidia GTS 450+ with 1024MB+ VRAM (excluding GT) - LATEST DRIVERS REQUIRED<br></li><li><strong>DirectX:</strong> Version 11<br></li><li><strong>Additional Notes:</strong> Not Recommended for Intel integrated graphics</li></ul>'},\n",
       " 'mac_requirements': {'minimum': '<strong>Minimum:</strong><br><ul class=\"bb_ul\"><li><strong>OS:</strong> OSX 10.9 or Higher<br></li><li><strong>Processor:</strong> 3.3 GHz Equivalent CPU<br></li><li><strong>Memory:</strong> 6 GB RAM<br></li><li><strong>Graphics:</strong> OpenGL 3 Compatible GPU with 1GB Video RAM<br></li><li><strong>Additional Notes:</strong> Not recommended for Intel integrated graphics or Mac Minis or early-generation MacBook</li></ul>'},\n",
       " 'linux_requirements': [],\n",
       " 'legal_notice': 'Software Code © 2016-2020 LCG Entertainment, Inc. Telltale, Telltale Games, and the Telltale logo are trademarks and/or registered trademarks of LCG Entertainment, Inc. All rights reserved. All other elements ©2016 DC Comics.  BATMAN and all related characters, their distinctive likenesses, and related elements are the property of DC Comics.  ™ & © 2016. WBIE LOGO, WB SHIELD: ™ & © Warner Bros. Entertainment Inc.',\n",
       " 'developers': ['Telltale'],\n",
       " 'publishers': ['Telltale'],\n",
       " 'price_overview': {'currency': 'BRL',\n",
       "  'initial': 5000,\n",
       "  'final': 5000,\n",
       "  'discount_percent': 0,\n",
       "  'initial_formatted': '',\n",
       "  'final_formatted': 'R$ 50,00'},\n",
       " 'packages': [113930],\n",
       " 'package_groups': [{'name': 'default',\n",
       "   'title': 'Buy Batman - The Telltale Series',\n",
       "   'description': '',\n",
       "   'selection_text': 'Select a purchase option',\n",
       "   'save_text': '',\n",
       "   'display_type': 0,\n",
       "   'is_recurring_subscription': 'false',\n",
       "   'subs': [{'packageid': 113930,\n",
       "     'percent_savings_text': ' ',\n",
       "     'percent_savings': 0,\n",
       "     'option_text': 'Batman: The Telltale Series - R$ 50,00',\n",
       "     'option_description': '',\n",
       "     'can_get_free_license': '0',\n",
       "     'is_free_license': False,\n",
       "     'price_in_cents_with_discount': 5000}]}],\n",
       " 'platforms': {'windows': True, 'mac': False, 'linux': False},\n",
       " 'categories': [{'id': 2, 'description': 'Single-player'},\n",
       "  {'id': 22, 'description': 'Steam Achievements'},\n",
       "  {'id': 28, 'description': 'Full controller support'}],\n",
       " 'genres': [{'id': '25', 'description': 'Adventure'}],\n",
       " 'screenshots': [{'id': 0,\n",
       "   'path_thumbnail': 'https://cdn.akamai.steamstatic.com/steam/apps/498240/ss_ec3881ec1fe8b001294cb71ff8c30833326c5a58.600x338.jpg?t=1686747257',\n",
       "   'path_full': 'https://cdn.akamai.steamstatic.com/steam/apps/498240/ss_ec3881ec1fe8b001294cb71ff8c30833326c5a58.1920x1080.jpg?t=1686747257'},\n",
       "  {'id': 1,\n",
       "   'path_thumbnail': 'https://cdn.akamai.steamstatic.com/steam/apps/498240/ss_94a2196d67ba1583eac67fde1985071ba6212c86.600x338.jpg?t=1686747257',\n",
       "   'path_full': 'https://cdn.akamai.steamstatic.com/steam/apps/498240/ss_94a2196d67ba1583eac67fde1985071ba6212c86.1920x1080.jpg?t=1686747257'},\n",
       "  {'id': 2,\n",
       "   'path_thumbnail': 'https://cdn.akamai.steamstatic.com/steam/apps/498240/ss_d581887c6f2001c0be467717ba909e2d0800d9a4.600x338.jpg?t=1686747257',\n",
       "   'path_full': 'https://cdn.akamai.steamstatic.com/steam/apps/498240/ss_d581887c6f2001c0be467717ba909e2d0800d9a4.1920x1080.jpg?t=1686747257'},\n",
       "  {'id': 3,\n",
       "   'path_thumbnail': 'https://cdn.akamai.steamstatic.com/steam/apps/498240/ss_0b79adea1ebd9b9098923cdbec846a770a41e728.600x338.jpg?t=1686747257',\n",
       "   'path_full': 'https://cdn.akamai.steamstatic.com/steam/apps/498240/ss_0b79adea1ebd9b9098923cdbec846a770a41e728.1920x1080.jpg?t=1686747257'},\n",
       "  {'id': 4,\n",
       "   'path_thumbnail': 'https://cdn.akamai.steamstatic.com/steam/apps/498240/ss_b5aa9c6cae290e690cc7358e03ec57d0a85ead2c.600x338.jpg?t=1686747257',\n",
       "   'path_full': 'https://cdn.akamai.steamstatic.com/steam/apps/498240/ss_b5aa9c6cae290e690cc7358e03ec57d0a85ead2c.1920x1080.jpg?t=1686747257'},\n",
       "  {'id': 5,\n",
       "   'path_thumbnail': 'https://cdn.akamai.steamstatic.com/steam/apps/498240/ss_172ec0b65363024e2f21aa2efbecbce9cfc02fe6.600x338.jpg?t=1686747257',\n",
       "   'path_full': 'https://cdn.akamai.steamstatic.com/steam/apps/498240/ss_172ec0b65363024e2f21aa2efbecbce9cfc02fe6.1920x1080.jpg?t=1686747257'},\n",
       "  {'id': 6,\n",
       "   'path_thumbnail': 'https://cdn.akamai.steamstatic.com/steam/apps/498240/ss_2a57829b8b04722a7b9d1cd3963ee739f9483235.600x338.jpg?t=1686747257',\n",
       "   'path_full': 'https://cdn.akamai.steamstatic.com/steam/apps/498240/ss_2a57829b8b04722a7b9d1cd3963ee739f9483235.1920x1080.jpg?t=1686747257'},\n",
       "  {'id': 7,\n",
       "   'path_thumbnail': 'https://cdn.akamai.steamstatic.com/steam/apps/498240/ss_c846c53a91dc0370e8d8249bf0a870a9e87fcfc5.600x338.jpg?t=1686747257',\n",
       "   'path_full': 'https://cdn.akamai.steamstatic.com/steam/apps/498240/ss_c846c53a91dc0370e8d8249bf0a870a9e87fcfc5.1920x1080.jpg?t=1686747257'},\n",
       "  {'id': 8,\n",
       "   'path_thumbnail': 'https://cdn.akamai.steamstatic.com/steam/apps/498240/ss_77356ce8f1de93801718656b6c9e97a490d434b4.600x338.jpg?t=1686747257',\n",
       "   'path_full': 'https://cdn.akamai.steamstatic.com/steam/apps/498240/ss_77356ce8f1de93801718656b6c9e97a490d434b4.1920x1080.jpg?t=1686747257'},\n",
       "  {'id': 9,\n",
       "   'path_thumbnail': 'https://cdn.akamai.steamstatic.com/steam/apps/498240/ss_e0b2c6ef79212eaf8f16e23445a9fe23e776d9b3.600x338.jpg?t=1686747257',\n",
       "   'path_full': 'https://cdn.akamai.steamstatic.com/steam/apps/498240/ss_e0b2c6ef79212eaf8f16e23445a9fe23e776d9b3.1920x1080.jpg?t=1686747257'},\n",
       "  {'id': 10,\n",
       "   'path_thumbnail': 'https://cdn.akamai.steamstatic.com/steam/apps/498240/ss_5b409182a69b05fb8c82a8d43e4e1fa22a3d646d.600x338.jpg?t=1686747257',\n",
       "   'path_full': 'https://cdn.akamai.steamstatic.com/steam/apps/498240/ss_5b409182a69b05fb8c82a8d43e4e1fa22a3d646d.1920x1080.jpg?t=1686747257'},\n",
       "  {'id': 11,\n",
       "   'path_thumbnail': 'https://cdn.akamai.steamstatic.com/steam/apps/498240/ss_9ba63202efa6528a986ac9d472d3634a13d604e8.600x338.jpg?t=1686747257',\n",
       "   'path_full': 'https://cdn.akamai.steamstatic.com/steam/apps/498240/ss_9ba63202efa6528a986ac9d472d3634a13d604e8.1920x1080.jpg?t=1686747257'},\n",
       "  {'id': 12,\n",
       "   'path_thumbnail': 'https://cdn.akamai.steamstatic.com/steam/apps/498240/ss_32686845e963e8c7bcb5d4d3c988db1d1dadd406.600x338.jpg?t=1686747257',\n",
       "   'path_full': 'https://cdn.akamai.steamstatic.com/steam/apps/498240/ss_32686845e963e8c7bcb5d4d3c988db1d1dadd406.1920x1080.jpg?t=1686747257'},\n",
       "  {'id': 13,\n",
       "   'path_thumbnail': 'https://cdn.akamai.steamstatic.com/steam/apps/498240/ss_f0346c16592c420e595eb29a93b49afbc54e4472.600x338.jpg?t=1686747257',\n",
       "   'path_full': 'https://cdn.akamai.steamstatic.com/steam/apps/498240/ss_f0346c16592c420e595eb29a93b49afbc54e4472.1920x1080.jpg?t=1686747257'},\n",
       "  {'id': 14,\n",
       "   'path_thumbnail': 'https://cdn.akamai.steamstatic.com/steam/apps/498240/ss_41245a26c0296b751b87602d8ef6cc090d6cf494.600x338.jpg?t=1686747257',\n",
       "   'path_full': 'https://cdn.akamai.steamstatic.com/steam/apps/498240/ss_41245a26c0296b751b87602d8ef6cc090d6cf494.1920x1080.jpg?t=1686747257'},\n",
       "  {'id': 15,\n",
       "   'path_thumbnail': 'https://cdn.akamai.steamstatic.com/steam/apps/498240/ss_ba2315925031ea016dc790b5a75b8946f0427e9d.600x338.jpg?t=1686747257',\n",
       "   'path_full': 'https://cdn.akamai.steamstatic.com/steam/apps/498240/ss_ba2315925031ea016dc790b5a75b8946f0427e9d.1920x1080.jpg?t=1686747257'},\n",
       "  {'id': 16,\n",
       "   'path_thumbnail': 'https://cdn.akamai.steamstatic.com/steam/apps/498240/ss_fad14f998970947ecfedcd27797cd780b1f71a87.600x338.jpg?t=1686747257',\n",
       "   'path_full': 'https://cdn.akamai.steamstatic.com/steam/apps/498240/ss_fad14f998970947ecfedcd27797cd780b1f71a87.1920x1080.jpg?t=1686747257'},\n",
       "  {'id': 17,\n",
       "   'path_thumbnail': 'https://cdn.akamai.steamstatic.com/steam/apps/498240/ss_b3e10fdc04ee2bce0d4f7b47daf259618d662f0f.600x338.jpg?t=1686747257',\n",
       "   'path_full': 'https://cdn.akamai.steamstatic.com/steam/apps/498240/ss_b3e10fdc04ee2bce0d4f7b47daf259618d662f0f.1920x1080.jpg?t=1686747257'},\n",
       "  {'id': 18,\n",
       "   'path_thumbnail': 'https://cdn.akamai.steamstatic.com/steam/apps/498240/ss_cec28ceb989573f87f87528c244d1a6d0e24a3c1.600x338.jpg?t=1686747257',\n",
       "   'path_full': 'https://cdn.akamai.steamstatic.com/steam/apps/498240/ss_cec28ceb989573f87f87528c244d1a6d0e24a3c1.1920x1080.jpg?t=1686747257'},\n",
       "  {'id': 19,\n",
       "   'path_thumbnail': 'https://cdn.akamai.steamstatic.com/steam/apps/498240/ss_1c8090bacbe321b2824af3177825f8e0237ab5f8.600x338.jpg?t=1686747257',\n",
       "   'path_full': 'https://cdn.akamai.steamstatic.com/steam/apps/498240/ss_1c8090bacbe321b2824af3177825f8e0237ab5f8.1920x1080.jpg?t=1686747257'},\n",
       "  {'id': 20,\n",
       "   'path_thumbnail': 'https://cdn.akamai.steamstatic.com/steam/apps/498240/ss_afaa21140e9acbfc0be644d7bbff26e041803fc8.600x338.jpg?t=1686747257',\n",
       "   'path_full': 'https://cdn.akamai.steamstatic.com/steam/apps/498240/ss_afaa21140e9acbfc0be644d7bbff26e041803fc8.1920x1080.jpg?t=1686747257'},\n",
       "  {'id': 21,\n",
       "   'path_thumbnail': 'https://cdn.akamai.steamstatic.com/steam/apps/498240/ss_441cd53e58a4f70602f063eee6322a3b82781b64.600x338.jpg?t=1686747257',\n",
       "   'path_full': 'https://cdn.akamai.steamstatic.com/steam/apps/498240/ss_441cd53e58a4f70602f063eee6322a3b82781b64.1920x1080.jpg?t=1686747257'},\n",
       "  {'id': 22,\n",
       "   'path_thumbnail': 'https://cdn.akamai.steamstatic.com/steam/apps/498240/ss_ef8185a263f9fc3cdb7eccc91e370299917a30d7.600x338.jpg?t=1686747257',\n",
       "   'path_full': 'https://cdn.akamai.steamstatic.com/steam/apps/498240/ss_ef8185a263f9fc3cdb7eccc91e370299917a30d7.1920x1080.jpg?t=1686747257'},\n",
       "  {'id': 23,\n",
       "   'path_thumbnail': 'https://cdn.akamai.steamstatic.com/steam/apps/498240/ss_c12516b80b0e1d987b726883e5b299cc9b29e769.600x338.jpg?t=1686747257',\n",
       "   'path_full': 'https://cdn.akamai.steamstatic.com/steam/apps/498240/ss_c12516b80b0e1d987b726883e5b299cc9b29e769.1920x1080.jpg?t=1686747257'},\n",
       "  {'id': 24,\n",
       "   'path_thumbnail': 'https://cdn.akamai.steamstatic.com/steam/apps/498240/ss_ac3c448dc77bc1938958109de90691b4bb9cdb7c.600x338.jpg?t=1686747257',\n",
       "   'path_full': 'https://cdn.akamai.steamstatic.com/steam/apps/498240/ss_ac3c448dc77bc1938958109de90691b4bb9cdb7c.1920x1080.jpg?t=1686747257'}],\n",
       " 'movies': [{'id': 256676890,\n",
       "   'name': 'Batman - The Telltale Series - Season Accolades Trailer',\n",
       "   'thumbnail': 'https://cdn.akamai.steamstatic.com/steam/apps/256676890/movie.293x165.jpg?t=1482370328',\n",
       "   'webm': {'480': 'http://cdn.akamai.steamstatic.com/steam/apps/256676890/movie480.webm?t=1482370328',\n",
       "    'max': 'http://cdn.akamai.steamstatic.com/steam/apps/256676890/movie_max.webm?t=1482370328'},\n",
       "   'mp4': {'480': 'http://cdn.akamai.steamstatic.com/steam/apps/256676890/movie480.mp4?t=1482370328',\n",
       "    'max': 'http://cdn.akamai.steamstatic.com/steam/apps/256676890/movie_max.mp4?t=1482370328'},\n",
       "   'highlight': True},\n",
       "  {'id': 256676273,\n",
       "   'name': 'Batman - The Telltale Series - Episode 5 Launch Trailer',\n",
       "   'thumbnail': 'https://cdn.akamai.steamstatic.com/steam/apps/256676273/movie.293x165.jpg?t=1481696125',\n",
       "   'webm': {'480': 'http://cdn.akamai.steamstatic.com/steam/apps/256676273/movie480.webm?t=1481696125',\n",
       "    'max': 'http://cdn.akamai.steamstatic.com/steam/apps/256676273/movie_max.webm?t=1481696125'},\n",
       "   'mp4': {'480': 'http://cdn.akamai.steamstatic.com/steam/apps/256676273/movie480.mp4?t=1481696125',\n",
       "    'max': 'http://cdn.akamai.steamstatic.com/steam/apps/256676273/movie_max.mp4?t=1481696125'},\n",
       "   'highlight': True},\n",
       "  {'id': 256675163,\n",
       "   'name': 'Batman - The Telltale Series - Episode 4 Launch Trailer',\n",
       "   'thumbnail': 'https://cdn.akamai.steamstatic.com/steam/apps/256675163/movie.293x165.jpg?t=1481696135',\n",
       "   'webm': {'480': 'http://cdn.akamai.steamstatic.com/steam/apps/256675163/movie480.webm?t=1481696135',\n",
       "    'max': 'http://cdn.akamai.steamstatic.com/steam/apps/256675163/movie_max.webm?t=1481696135'},\n",
       "   'mp4': {'480': 'http://cdn.akamai.steamstatic.com/steam/apps/256675163/movie480.mp4?t=1481696135',\n",
       "    'max': 'http://cdn.akamai.steamstatic.com/steam/apps/256675163/movie_max.mp4?t=1481696135'},\n",
       "   'highlight': True},\n",
       "  {'id': 256673189,\n",
       "   'name': 'Batman - The Telltale Series - Episode 3 Launch Trailer',\n",
       "   'thumbnail': 'https://cdn.akamai.steamstatic.com/steam/apps/256673189/movie.293x165.jpg?t=1477415240',\n",
       "   'webm': {'480': 'http://cdn.akamai.steamstatic.com/steam/apps/256673189/movie480.webm?t=1477415240',\n",
       "    'max': 'http://cdn.akamai.steamstatic.com/steam/apps/256673189/movie_max.webm?t=1477415240'},\n",
       "   'mp4': {'480': 'http://cdn.akamai.steamstatic.com/steam/apps/256673189/movie480.mp4?t=1477415240',\n",
       "    'max': 'http://cdn.akamai.steamstatic.com/steam/apps/256673189/movie_max.mp4?t=1477415240'},\n",
       "   'highlight': True},\n",
       "  {'id': 256670854,\n",
       "   'name': 'Batman - The Telltale Series - Episode 2 Launch Trailer',\n",
       "   'thumbnail': 'https://cdn.akamai.steamstatic.com/steam/apps/256670854/movie.293x165.jpg?t=1474390847',\n",
       "   'webm': {'480': 'http://cdn.akamai.steamstatic.com/steam/apps/256670854/movie480.webm?t=1474390847',\n",
       "    'max': 'http://cdn.akamai.steamstatic.com/steam/apps/256670854/movie_max.webm?t=1474390847'},\n",
       "   'mp4': {'480': 'http://cdn.akamai.steamstatic.com/steam/apps/256670854/movie480.mp4?t=1474390847',\n",
       "    'max': 'http://cdn.akamai.steamstatic.com/steam/apps/256670854/movie_max.mp4?t=1474390847'},\n",
       "   'highlight': True},\n",
       "  {'id': 256667223,\n",
       "   'name': 'Debut Trailer',\n",
       "   'thumbnail': 'https://cdn.akamai.steamstatic.com/steam/apps/256667223/movie.293x165.jpg?t=1468940460',\n",
       "   'webm': {'480': 'http://cdn.akamai.steamstatic.com/steam/apps/256667223/movie480.webm?t=1468940460',\n",
       "    'max': 'http://cdn.akamai.steamstatic.com/steam/apps/256667223/movie_max.webm?t=1468940460'},\n",
       "   'mp4': {'480': 'http://cdn.akamai.steamstatic.com/steam/apps/256667223/movie480.mp4?t=1468940460',\n",
       "    'max': 'http://cdn.akamai.steamstatic.com/steam/apps/256667223/movie_max.mp4?t=1468940460'},\n",
       "   'highlight': True}],\n",
       " 'recommendations': {'total': 11871},\n",
       " 'achievements': {'total': 30,\n",
       "  'highlighted': [{'name': 'Welcome to Gotham',\n",
       "    'path': 'https://cdn.akamai.steamstatic.com/steamcommunity/public/images/apps/498240/5340b73b6d811acf0aabb6f431a5c9ab76a31724.jpg'},\n",
       "   {'name': 'The One that Got Away',\n",
       "    'path': 'https://cdn.akamai.steamstatic.com/steamcommunity/public/images/apps/498240/d132b18c072ca4d5d454205644d667253ddce360.jpg'},\n",
       "   {'name': 'Meet the Press',\n",
       "    'path': 'https://cdn.akamai.steamstatic.com/steamcommunity/public/images/apps/498240/752b22b885ed96c7a7dd5e0b77f1a0ddfb3608ef.jpg'},\n",
       "   {'name': \"World's Greatest Detective\",\n",
       "    'path': 'https://cdn.akamai.steamstatic.com/steamcommunity/public/images/apps/498240/bd980c0cad268fef2f310c4e525cee1bac2e9514.jpg'},\n",
       "   {'name': 'Room with a View',\n",
       "    'path': 'https://cdn.akamai.steamstatic.com/steamcommunity/public/images/apps/498240/a32832dd22879ae894f53bd1c96b51a0031b86a8.jpg'},\n",
       "   {'name': 'Family Secrets',\n",
       "    'path': 'https://cdn.akamai.steamstatic.com/steamcommunity/public/images/apps/498240/1ecf573aa427cf3012b09f4bc572e19278522918.jpg'},\n",
       "   {'name': 'Broken Memories',\n",
       "    'path': 'https://cdn.akamai.steamstatic.com/steamcommunity/public/images/apps/498240/e4fefc4dec590dc915aa26a1f17f99ea90ecec43.jpg'},\n",
       "   {'name': 'The Children',\n",
       "    'path': 'https://cdn.akamai.steamstatic.com/steamcommunity/public/images/apps/498240/14f43353c70d1a8a2a223a186e702a436c4e4818.jpg'},\n",
       "   {'name': 'A Big Fan',\n",
       "    'path': 'https://cdn.akamai.steamstatic.com/steamcommunity/public/images/apps/498240/5d7d0ecf96bee455f611693758ae0e0353fc09c6.jpg'},\n",
       "   {'name': 'Two of a Kind',\n",
       "    'path': 'https://cdn.akamai.steamstatic.com/steamcommunity/public/images/apps/498240/25f47697be28465307e5f84b37f288660f659b3d.jpg'}]},\n",
       " 'release_date': {'coming_soon': False, 'date': '2 Aug, 2016'},\n",
       " 'support_info': {'url': 'https://www.telltale.com/player-support/',\n",
       "  'email': ''},\n",
       " 'background': 'https://cdn.akamai.steamstatic.com/steam/apps/498240/page_bg_generated_v6b.jpg?t=1686747257',\n",
       " 'background_raw': 'https://cdn.akamai.steamstatic.com/steam/apps/498240/page.bg.jpg?t=1686747257',\n",
       " 'content_descriptors': {'ids': [], 'notes': None}}"
      ]
     },
     "execution_count": 113,
     "metadata": {},
     "output_type": "execute_result"
    }
   ],
   "source": [
    "game_overview[gameid][\"data\"]['is_free']\n",
    "\n",
    "game_overview[gameid][\"data\"]['detailed_description']\n",
    "\n",
    "game_overview[gameid][\"data\"]['developers']\n",
    "game_overview[gameid][\"data\"]['publishers']\n",
    "\n",
    "game_overview[gameid][\"data\"]['price_overview']['final_formatted']\n",
    "\n",
    "game_overview[gameid]['data']['genres']\n",
    "\n",
    "game_overview[gameid]['data']['release_date']\n",
    "\n",
    "game_overview[gameid]['data']"
   ]
  },
  {
   "cell_type": "markdown",
   "metadata": {},
   "source": [
    "## Retorno menor preço atual e histórico"
   ]
  },
  {
   "cell_type": "code",
   "execution_count": 94,
   "metadata": {},
   "outputs": [
    {
     "name": "stdout",
     "output_type": "stream",
     "text": [
      "https://api.isthereanydeal.com/v01/game/overview/?key=48cf3848edaf5a53d702c5b056b0dcb4be35df34&country=BR&shop=steam&ids=app/498240&\n"
     ]
    }
   ],
   "source": [
    "game_lowest = getGameLowest(gameid)"
   ]
  },
  {
   "cell_type": "code",
   "execution_count": 124,
   "metadata": {},
   "outputs": [
    {
     "name": "stdout",
     "output_type": "stream",
     "text": [
      "<class 'dict'>\n",
      "<class 'str'>\n"
     ]
    }
   ],
   "source": [
    "from datetime import datetime\n",
    "\n",
    "print(type(game_lowest['data'][f\"app/{gameid}\"]))\n",
    "\n",
    "game_lowest['data'][f\"app/{gameid}\"]['price'] # today´s lowest\n",
    "game_lowest['data'][f\"app/{gameid}\"]['price']['store']\n",
    "\n",
    "\n",
    "game_lowest['data'][f\"app/{gameid}\"]['lowest'] # historical lowest\n",
    "game_lowest['data'][f\"app/{gameid}\"]['lowest']['store']\n",
    "\n",
    "game_lowest['data'][f\"app/{gameid}\"]['urls']['history'] # price history site\n",
    "\n",
    "game_lowest['data'][f\"app/{gameid}\"]['lowest']['recorded']\n",
    "\n",
    "data_formatada = datetime.utcfromtimestamp(game_lowest['data'][f\"app/{gameid}\"]['lowest']['recorded']).strftime('%d-%m-%Y') # dia do menor preço histórico\n",
    "\n",
    "print(type(data_formatada))"
   ]
  }
 ],
 "metadata": {
  "kernelspec": {
   "display_name": "Python 3",
   "language": "python",
   "name": "python3"
  },
  "language_info": {
   "codemirror_mode": {
    "name": "ipython",
    "version": 3
   },
   "file_extension": ".py",
   "mimetype": "text/x-python",
   "name": "python",
   "nbconvert_exporter": "python",
   "pygments_lexer": "ipython3",
   "version": "3.11.3"
  }
 },
 "nbformat": 4,
 "nbformat_minor": 2
}
