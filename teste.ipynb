{
 "cells": [
  {
   "cell_type": "code",
   "execution_count": 124,
   "metadata": {},
   "outputs": [],
   "source": [
    "import requests\n",
    "from env import env\n",
    "import urllib.parse\n",
    "from datetime import datetime"
   ]
  },
  {
   "cell_type": "code",
   "execution_count": 120,
   "metadata": {},
   "outputs": [],
   "source": [
    "csUrl = \"https://www.cheapshark.com/api/1.0/\"\n",
    "\n",
    "def supCheapSharkExtractor(path,**kwargs) -> list:\n",
    "\n",
    "    send = csUrl + path\n",
    "\n",
    "    for key,value in kwargs.items():\n",
    "        if value != None: send += f\"{key}={value}&\"\n",
    "    return requests.get(send).json()\n",
    "\n",
    "def getGameByTheme(title:str = None,size:int = 60) -> list:\n",
    "    \"\"\"\n",
    "    Retorna uma lista de jogos baseados em um tema.\n",
    "    \"\"\"\n",
    "    if title: title = urllib.parse.quote(title)\n",
    "    response = supCheapSharkExtractor(path=\"games?\",title=title,size=size)\n",
    "    response_id = []\n",
    "\n",
    "    for i in response: \n",
    "        if i['steamAppID'] != None: \n",
    "            response_id.append(f\"{i['external']} - {i['steamAppID']}\")\n",
    "\n",
    "    return response_id"
   ]
  },
  {
   "cell_type": "code",
   "execution_count": 74,
   "metadata": {},
   "outputs": [],
   "source": [
    "stUrl = \"https://store.steampowered.com/api/\"\n",
    "\n",
    "def supSteamPoweredExtractor(path,**kwargs) -> dict:\n",
    "    send = stUrl + path\n",
    "\n",
    "    for key,value in kwargs.items():\n",
    "        if value != None: send += f\"{key}={value}&\"\n",
    "\n",
    "    return requests.get(send).json()\n",
    "\n",
    "def getGameOverview(appids:str = None):\n",
    "    response = supSteamPoweredExtractor(path=\"appdetails?\",appids=appids,cc=\"pt-br\",l=\"portuguese\")\n",
    "\n",
    "    desciption_v = response[appids][\"data\"]['detailed_description']\n",
    "\n",
    "    dev_v = \"Desenvolvido pela: \" + response[appids][\"data\"]['developers'][0]\n",
    "    pub_v = \"Distribuído pela: \" + response[appids][\"data\"]['publishers'][0]\n",
    "\n",
    "    price_v = \"Preço na steam: \"+ response[appids][\"data\"]['price_overview']['final_formatted']\n",
    "\n",
    "    genre_v = response[appids]['data']['genres'][0]['description'] # more tests\n",
    "\n",
    "    date_v = response[appids]['data']['release_date']['date']\n",
    "\n",
    "    try:\n",
    "        meta_v = \"Metacritic: \" + str(response[appids][\"data\"]['metacritic']['score'])\n",
    "    except Exception as e:\n",
    "        meta_v = \"Metacritic não disponível\"\n",
    "\n",
    "    try:\n",
    "        recomendations_v = \"Número de avaliações na steam: \"+str(response[appids][\"data\"][\"recommendations\"]['total'])\n",
    "    except:\n",
    "        recomendations_v = \"Produto não avaliado\"\n",
    "\n",
    "    min_rec_v = \"Requisitos mínimos: \" + response[appids]['data']['pc_requirements']['minimum']\n",
    "\n",
    "    max_rec_v = \"Requisitos recomendados: \" + response[appids]['data']['pc_requirements']['recommended']\n",
    "\n",
    "\n",
    "    struct = {\n",
    "        \"desc\": desciption_v,\n",
    "        \"dev\": dev_v,\n",
    "        \"pub\": pub_v,\n",
    "        \"price\":price_v,\n",
    "        \"genre\":genre_v,\n",
    "        \"date\":date_v,\n",
    "        \"meta\":meta_v,\n",
    "        \"recomendations\":recomendations_v,\n",
    "        \"min_rec\":min_rec_v,\n",
    "        \"max_rec\":max_rec_v\n",
    "    }\n",
    "\n",
    "    return struct"
   ]
  },
  {
   "cell_type": "code",
   "execution_count": 122,
   "metadata": {},
   "outputs": [],
   "source": [
    "adUrl = \"https://api.isthereanydeal.com/\"\n",
    "\n",
    "def supIsThereAnyDealExtractor(path,**kwargs) -> list:\n",
    "\n",
    "    send = adUrl + path\n",
    "\n",
    "    for key,value in kwargs.items():\n",
    "        if value != None: send += f\"{key}={value}&\"\n",
    "\n",
    "    return requests.get(send).json()\n",
    "\n",
    "def getGameLowest(gameid:str = None):\n",
    "    response = supIsThereAnyDealExtractor(path=\"v01/game/overview/?\",key=env(\"AnyDealKey\"),country=\"BR\",shop=\"steam\",ids=f\"app/{gameid}\")\n",
    "\n",
    "    print(type(response['data'][f\"app/{gameid}\"]))\n",
    "\n",
    "    try:\n",
    "\n",
    "        store_today = response['data'][f\"app/{gameid}\"]['price']['store']\n",
    "        price_today = response['data'][f\"app/{gameid}\"]['price']['price_formatted']\n",
    "\n",
    "    except:\n",
    "        store_today = None\n",
    "        price_today = None\n",
    "\n",
    "    store_hist = response['data'][f\"app/{gameid}\"]['lowest']['store']\n",
    "    price_hist = response['data'][f\"app/{gameid}\"]['lowest']['price_formatted']\n",
    "\n",
    "\n",
    "    price_url = response['data'][f\"app/{gameid}\"]['urls']['history']\n",
    "\n",
    "    data_formatada = datetime.utcfromtimestamp(response['data'][f\"app/{gameid}\"]['lowest']['recorded']).strftime('%d-%m-%Y') # dia do menor preço histórico\n",
    "\n",
    "    struct = {\n",
    "        \"store_today\":store_today,\n",
    "        \"price_today\":price_today,\n",
    "        \"store_hist\":store_hist,\n",
    "        \"price_hist\":price_hist,\n",
    "        \"price_url\":price_url,\n",
    "        \"date\":data_formatada\n",
    "    }\n",
    "\n",
    "    return struct\n",
    "\n",
    "def getGamePlains(gameid:str = None):\n",
    "    response = supIsThereAnyDealExtractor(path=\"v01/game/plain/id/?\",key=env(\"AnyDealKey\"),shop=\"steam\",ids=f\"app/{gameid}\")\n",
    "    return response['data'][f\"app/{gameid}\"]\n",
    "\n",
    "def getGamePrices(gamePlain:str = None):\n",
    "    response = supIsThereAnyDealExtractor(path=\"v01/game/prices/?\",key=env(\"AnyDealKey\"),plains=gamePlain,country=\"BR\")\n",
    "\n",
    "    price_list = []\n",
    "\n",
    "    try:\n",
    "        for i in response['data'][response]['list']:\n",
    "            f\"{i['shop']['name']}: {i['price_old']} -> {i['price_new']} ({i['price_cut']}%)\"\n",
    "            price_list.append()\n",
    "    except:\n",
    "        return []\n",
    "\n",
    "    return price_list\n"
   ]
  },
  {
   "cell_type": "markdown",
   "metadata": {},
   "source": [
    "## Escolha do tema e jogo"
   ]
  },
  {
   "cell_type": "code",
   "execution_count": null,
   "metadata": {},
   "outputs": [],
   "source": [
    "response = getGameByTheme(title=\"observation\")\n",
    "for i in response:\n",
    "    print(i)"
   ]
  },
  {
   "cell_type": "markdown",
   "metadata": {},
   "source": [
    "## Retorno do overview"
   ]
  },
  {
   "cell_type": "code",
   "execution_count": 107,
   "metadata": {},
   "outputs": [],
   "source": [
    "gameid = \"2150950\"\n",
    "game_overview = getGameOverview(appids=gameid)"
   ]
  },
  {
   "cell_type": "code",
   "execution_count": null,
   "metadata": {},
   "outputs": [],
   "source": [
    "#print(game_overview[gameid]['success'])\n",
    "\n",
    "#print(game_overview[gameid][\"data\"]['is_free'])\n",
    "\n",
    "print(game_overview[gameid][\"data\"]['detailed_description']) #\n",
    "\n",
    "print(\"Desenvolvido pela: \" + game_overview[gameid][\"data\"]['developers'][0]) # \n",
    "print(\"Distribuído pela: \" + game_overview[gameid][\"data\"]['publishers'][0]) #\n",
    "\n",
    "print(\"Preço na steam: \"+game_overview[gameid][\"data\"]['price_overview']['final_formatted']) #\n",
    "\n",
    "\n",
    "print(game_overview[gameid]['data']['genres'][0]['description']) #\n",
    "\n",
    "print(game_overview[gameid]['data']['release_date']['date']) #\n",
    "\n",
    "try:\n",
    "\n",
    "    print(\"Metacritic: \" + str(game_overview[gameid][\"data\"]['metacritic']['score'])) #\n",
    "\n",
    "except Exception as e:\n",
    "    print(\"Metacritic não disponível\") #\n",
    "\n",
    "try:\n",
    "    print(\"Número de avaliações na steam: \"+str(game_overview[gameid][\"data\"][\"recommendations\"]['total'])) #\n",
    "except:\n",
    "    print(\"Produto não avaliado\") #\n",
    "\n",
    "print(\"Requisitos mínimos: \" + game_overview[gameid]['data']['pc_requirements']['minimum'])\n",
    "\n",
    "print(\"Requisitos recomendados: \" + game_overview[gameid]['data']['pc_requirements']['recommended'])\n",
    "\n",
    "#game_overview[gameid]['data']"
   ]
  },
  {
   "cell_type": "markdown",
   "metadata": {},
   "source": [
    "## Retorno menor preço atual e histórico"
   ]
  },
  {
   "cell_type": "code",
   "execution_count": null,
   "metadata": {},
   "outputs": [],
   "source": [
    "game_lowest = getGameLowest(gameid)\n",
    "game_lowest"
   ]
  },
  {
   "cell_type": "code",
   "execution_count": null,
   "metadata": {},
   "outputs": [],
   "source": [
    "print(type(game_lowest['data'][f\"app/{gameid}\"]))\n",
    "\n",
    "try:\n",
    "\n",
    "    print(game_lowest['data'][f\"app/{gameid}\"]['price']['store']) # today´s lowest\n",
    "    print(game_lowest['data'][f\"app/{gameid}\"]['price']['price_formatted'])\n",
    "\n",
    "except:\n",
    "    print(\"today == historical\")\n",
    "\n",
    "print(game_lowest['data'][f\"app/{gameid}\"]['lowest']['store']) # historical lowest\n",
    "print(game_lowest['data'][f\"app/{gameid}\"]['lowest']['price_formatted'])\n",
    "\n",
    "\n",
    "print(game_lowest['data'][f\"app/{gameid}\"]['urls']['history']) # price history site\n",
    "\n",
    "print(game_lowest['data'][f\"app/{gameid}\"]['lowest']['recorded'])\n",
    "\n",
    "data_formatada = datetime.utcfromtimestamp(game_lowest['data'][f\"app/{gameid}\"]['lowest']['recorded']).strftime('%d-%m-%Y') # dia do menor preço histórico\n",
    "\n",
    "print(data_formatada)"
   ]
  },
  {
   "cell_type": "markdown",
   "metadata": {},
   "source": [
    "## Retorno todos os preços do jogo"
   ]
  },
  {
   "cell_type": "code",
   "execution_count": null,
   "metadata": {},
   "outputs": [],
   "source": [
    "plainResponse = getGamePlains(gameid=gameid)\n",
    "\n",
    "game_plain = plainResponse['data'][f\"app/{gameid}\"]\n",
    "\n",
    "print(game_plain)\n",
    "\n",
    "pricesResponse = getGamePrices(game_plain)"
   ]
  },
  {
   "cell_type": "code",
   "execution_count": null,
   "metadata": {},
   "outputs": [],
   "source": [
    "#pricesResponse['data'][game_plain]['list']\n",
    "print(pricesResponse)\n",
    "\n",
    "price_list = pricesResponse['data'][game_plain]['list']\n",
    "try:\n",
    "    if price_list == []:\n",
    "        print(\"sem lista\")\n",
    "    else:\n",
    "        for i in pricesResponse['data'][game_plain]['list']:\n",
    "            print(i['price_old'],i['price_new'],str(i['price_cut'])+\"%\",i['shop']['name'])\n",
    "except Exception as e:\n",
    "    print(\"sem lista\")"
   ]
  }
 ],
 "metadata": {
  "kernelspec": {
   "display_name": "Python 3",
   "language": "python",
   "name": "python3"
  },
  "language_info": {
   "codemirror_mode": {
    "name": "ipython",
    "version": 3
   },
   "file_extension": ".py",
   "mimetype": "text/x-python",
   "name": "python",
   "nbconvert_exporter": "python",
   "pygments_lexer": "ipython3",
   "version": "3.10.7"
  }
 },
 "nbformat": 4,
 "nbformat_minor": 2
}
