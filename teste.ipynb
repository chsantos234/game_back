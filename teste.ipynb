{
 "cells": [
  {
   "cell_type": "code",
   "execution_count": 54,
   "metadata": {},
   "outputs": [],
   "source": [
    "import requests"
   ]
  },
  {
   "cell_type": "code",
   "execution_count": 55,
   "metadata": {},
   "outputs": [],
   "source": [
    "csUrl = \"https://www.cheapshark.com/api/1.0/\"\n",
    "\n",
    "def supCheapSharkExtractor(path,**kwargs) -> list:\n",
    "    \"\"\"\n",
    "    Comentário teste...\n",
    "    \"\"\" \n",
    "    send = csUrl + path\n",
    "\n",
    "    for key,value in kwargs.items():\n",
    "        if value != None: send += f\"{key}={value}&\"\n",
    "\n",
    "    print(send)\n",
    "\n",
    "    return requests.get(send).json()\n",
    "\n",
    "def getGameByTheme(title:str = None,size:int = 60) -> list:\n",
    "    \"\"\"\n",
    "    Retorna uma lista de jogos baseados em um tema.\n",
    "    \"\"\"\n",
    "    response = supCheapSharkExtractor(path=\"games?\",title=title,size=size)\n",
    "\n",
    "    response_id = []\n",
    "\n",
    "    for i in response: \n",
    "        if i['steamAppID'] != None: response_id.append(i)\n",
    "\n",
    "    return response_id"
   ]
  },
  {
   "cell_type": "code",
   "execution_count": 78,
   "metadata": {},
   "outputs": [],
   "source": [
    "stUrl = \"https://store.steampowered.com/api/\"\n",
    "\n",
    "def supSteamPoweredExtractor(path,**kwargs) -> list:\n",
    "    send = stUrl + path\n",
    "\n",
    "    for key,value in kwargs.items():\n",
    "        if value != None: send += f\"{key}={value}&\"\n",
    "\n",
    "    print(send)\n",
    "\n",
    "    return requests.get(send).json()\n",
    "\n",
    "def getGameOverview(appids:str = None):\n",
    "    response = supSteamPoweredExtractor(path=\"appdetails?\",appids=appids,cc=\"pt-br\")\n",
    "\n",
    "    return response"
   ]
  },
  {
   "cell_type": "code",
   "execution_count": 130,
   "metadata": {},
   "outputs": [],
   "source": [
    "from env import env\n",
    "\n",
    "adUrl = \"https://api.isthereanydeal.com/\"\n",
    "\n",
    "def supIsThereAnyDealExtractor(path,**kwargs) -> list: # to do: add key\n",
    "\n",
    "    send = adUrl + path\n",
    "\n",
    "    for key,value in kwargs.items():\n",
    "        if value != None: send += f\"{key}={value}&\"\n",
    "\n",
    "    print(send)\n",
    "\n",
    "    return requests.get(send).json()\n",
    "\n",
    "def getGameLowest(gameid:str = None):\n",
    "    response = supIsThereAnyDealExtractor(path=\"v01/game/overview/?\",key=env(\"AnyDealKey\"),country=\"BR\",shop=\"steam\",ids=f\"app/{gameid}\")\n",
    "    return response\n",
    "\n",
    "def getGamePlains(gameid:str = None):\n",
    "    response = supIsThereAnyDealExtractor(path=\"v01/game/plain/id/?\",key=env(\"AnyDealKey\"),shop=\"steam\",ids=f\"app/{gameid}\")\n",
    "    return response\n",
    "\n",
    "def getGamePrices(gamePlain:str = None):\n",
    "    response = supIsThereAnyDealExtractor(path=\"v01/game/prices/?\",key=env(\"AnyDealKey\"),plains=gamePlain,country=\"BR\")\n",
    "    return response"
   ]
  },
  {
   "cell_type": "markdown",
   "metadata": {},
   "source": [
    "## Escolha do tema e jogo"
   ]
  },
  {
   "cell_type": "code",
   "execution_count": 141,
   "metadata": {},
   "outputs": [
    {
     "name": "stdout",
     "output_type": "stream",
     "text": [
      "https://www.cheapshark.com/api/1.0/games?title=red dead redemption&size=60&\n",
      "{'gameID': '206516', 'steamAppID': '1174180', 'cheapest': '25.99', 'cheapestDealID': 'kZsu5wC0oIzToXYWmjh7WNag3qgqRnAUEfZSUC5hX30%3D', 'external': 'Red Dead Redemption 2', 'internalName': 'REDDEADREDEMPTION2', 'thumb': 'https://cdn.cloudflare.steamstatic.com/steam/apps/1174180/capsule_sm_120.jpg?t=1695140956'}\n"
     ]
    }
   ],
   "source": [
    "response = getGameByTheme(title=\"red dead redemption\")\n",
    "\n",
    "response_id = []\n",
    "\n",
    "for i in response: \n",
    "    if i['steamAppID'] != None: response_id.append(i)\n",
    "\n",
    "for i in response_id:\n",
    "    print(i)"
   ]
  },
  {
   "cell_type": "markdown",
   "metadata": {},
   "source": [
    "## Retorno do overview"
   ]
  },
  {
   "cell_type": "code",
   "execution_count": 142,
   "metadata": {},
   "outputs": [
    {
     "name": "stdout",
     "output_type": "stream",
     "text": [
      "https://store.steampowered.com/api/appdetails?appids=1174180&cc=pt-br&\n"
     ]
    }
   ],
   "source": [
    "gameid = \"1174180\"\n",
    "game_overview = getGameOverview(appids=gameid)"
   ]
  },
  {
   "cell_type": "code",
   "execution_count": 143,
   "metadata": {},
   "outputs": [
    {
     "name": "stdout",
     "output_type": "stream",
     "text": [
      "{'1174180': {'success': True, 'data': {'type': 'game', 'name': 'Red Dead Redemption 2', 'steam_appid': 1174180, 'required_age': 0, 'is_free': False, 'detailed_description': '<h1>Ultimate Edition</h1><p><img src=\"https://cdn.akamai.steamstatic.com/steam/apps/1174180/extras/Ultimate_615.jpg?t=1695140956\" /><br>The Red Dead Redemption 2:  Ultimate Edition delivers all of the Story Mode content from the Special Edition plus additional content for online including Bonus Outfits for your online Character, Rank Bonuses, Black Chestnut Thoroughbred and free access to the Survivor Camp Theme.<br><br>Plus get free access to Additional Weapons in online.</p><br><h1>About the Game</h1>America, 1899.<br><br>Arthur Morgan and the Van der Linde gang are outlaws on the run. With federal agents and the best bounty hunters in the nation massing on their heels, the gang must rob, steal and fight their way across the rugged heartland of America in order to survive. As deepening internal divisions threaten to tear the gang apart, Arthur must make a choice between his own ideals and loyalty to the gang who raised him.<br><br>Now featuring additional Story Mode content and a fully-featured Photo Mode, Red Dead Redemption 2 also includes free access to the shared living world of Red Dead Online, where players take on an array of roles to carve their own unique path on the frontier as they track wanted criminals as a Bounty Hunter, create a business as a Trader, unearth exotic treasures as a Collector or run an underground distillery as a Moonshiner and much more.<br><br>With all new graphical and technical enhancements for deeper immersion, Red Dead Redemption 2 for PC takes full advantage of the power of the PC to bring every corner of this massive, rich and detailed world to life including increased draw distances; higher quality global illumination and ambient occlusion for improved day and night lighting; improved reflections and deeper, higher resolution shadows at all distances; tessellated tree textures and improved grass and fur textures for added realism in every plant and animal.<br><br>Red Dead Redemption 2 for PC also offers HDR support, the ability to run high-end display setups with 4K resolution and beyond, multi-monitor configurations, widescreen configurations, faster frame rates and more.', 'about_the_game': 'America, 1899.<br />\\r\\n<br />\\r\\nArthur Morgan and the Van der Linde gang are outlaws on the run. With federal agents and the best bounty hunters in the nation massing on their heels, the gang must rob, steal and fight their way across the rugged heartland of America in order to survive. As deepening internal divisions threaten to tear the gang apart, Arthur must make a choice between his own ideals and loyalty to the gang who raised him.<br />\\r\\n<br />\\r\\nNow featuring additional Story Mode content and a fully-featured Photo Mode, Red Dead Redemption 2 also includes free access to the shared living world of Red Dead Online, where players take on an array of roles to carve their own unique path on the frontier as they track wanted criminals as a Bounty Hunter, create a business as a Trader, unearth exotic treasures as a Collector or run an underground distillery as a Moonshiner and much more.<br />\\r\\n<br />\\r\\nWith all new graphical and technical enhancements for deeper immersion, Red Dead Redemption 2 for PC takes full advantage of the power of the PC to bring every corner of this massive, rich and detailed world to life including increased draw distances; higher quality global illumination and ambient occlusion for improved day and night lighting; improved reflections and deeper, higher resolution shadows at all distances; tessellated tree textures and improved grass and fur textures for added realism in every plant and animal.<br />\\r\\n<br />\\r\\nRed Dead Redemption 2 for PC also offers HDR support, the ability to run high-end display setups with 4K resolution and beyond, multi-monitor configurations, widescreen configurations, faster frame rates and more.', 'short_description': 'Winner of over 175 Game of the Year Awards and recipient of over 250 perfect scores, RDR2 is the epic tale of outlaw Arthur Morgan and the infamous Van der Linde gang, on the run across America at the dawn of the modern age. Also includes access to the shared living world of Red Dead Online.', 'supported_languages': 'English<strong>*</strong>, French, Italian, German, Spanish - Spain, Japanese, Korean, Polish, Portuguese - Portugal, Russian, Simplified Chinese, Spanish - Latin America, Traditional Chinese<br><strong>*</strong>languages with full audio support', 'header_image': 'https://cdn.akamai.steamstatic.com/steam/apps/1174180/header.jpg?t=1695140956', 'capsule_image': 'https://cdn.akamai.steamstatic.com/steam/apps/1174180/capsule_231x87.jpg?t=1695140956', 'capsule_imagev5': 'https://cdn.akamai.steamstatic.com/steam/apps/1174180/capsule_184x69.jpg?t=1695140956', 'website': 'https://www.rockstargames.com/reddeadredemption2/', 'pc_requirements': {'minimum': '<strong>Minimum:</strong><br><ul class=\"bb_ul\"><li>Requires a 64-bit processor and operating system<br></li><li><strong>OS:</strong> Windows 10 - April 2018 Update (v1803)<br></li><li><strong>Processor:</strong> Intel® Core™ i7-4770K / AMD Ryzen 5 1500X<br></li><li><strong>Memory:</strong> 12 GB RAM<br></li><li><strong>Graphics:</strong> Nvidia GeForce GTX 1060 6GB / AMD Radeon RX 480 4GB<br></li><li><strong>Network:</strong> Broadband Internet connection<br></li><li><strong>Storage:</strong> 150 GB available space<br></li><li><strong>Sound Card:</strong> Direct X Compatible</li></ul>', 'recommended': '<strong>Recommended:</strong><br><ul class=\"bb_ul\"><li>Requires a 64-bit processor and operating system<br></li><li><strong>OS:</strong> Windows 10 - April 2018 Update (v1803)<br></li><li><strong>Processor:</strong> Intel® Core™ i7-4770K / AMD Ryzen 5 1500X<br></li><li><strong>Memory:</strong> 12 GB RAM<br></li><li><strong>Graphics:</strong> Nvidia GeForce GTX 1060 6GB / AMD Radeon RX 480 4GB<br></li><li><strong>Network:</strong> Broadband Internet connection<br></li><li><strong>Storage:</strong> 150 GB available space<br></li><li><strong>Sound Card:</strong> Direct X Compatible</li></ul>'}, 'mac_requirements': {'minimum': '<strong>Minimum:</strong><br><ul class=\"bb_ul\"></ul>', 'recommended': '<strong>Recommended:</strong><br><ul class=\"bb_ul\"></ul>'}, 'linux_requirements': {'minimum': '<strong>Minimum:</strong><br><ul class=\"bb_ul\"></ul>', 'recommended': '<strong>Recommended:</strong><br><ul class=\"bb_ul\"></ul>'}, 'legal_notice': 'Software license terms in game and at www.rockstargames.com/eula; online account terms at www.rockstargames.com/socialclub. Non-transferable access to special features, such as exclusive/unlockable/downloadable/multiplayer/online & bonus content/services/functions, may require single-use serial code, additional fee, and/or non-transferrable online account registration (varies 13+). Special features access may require internet connection, may not be available to all users or at all times, and may be terminated/modified/offered under different terms without notice. Violation of EULA, Code of Conduct, or other policies may result in restriction or termination of access to game or online account. For info, customer & tech support visit www.rockstargames.com/support. This game is fictional. It may depict people, places, companies, groups, events, buildings, and other things that are similar to those in the real world; they are not affiliated or associated in any way with this game, and such depictions are not factual. The makers/publishers/licensors of this video game do not endorse/condone/encourage any content. Unauthorized copying, alteration, reverse engineering, decompiling, transmission, public performance, rental, pay for play, or copy protection circumvention is prohibited & violates EULA. Certain limits apply to purchase, use, and redemption. See EULA www.rockstargames.com/eula and Terms of Service www.rockstargames.com/legal for details.<br />\\r\\n <br />\\r\\nRockstar Games, Inc.  ©2005-19. Rockstar Games, Red Dead Redemption, R*, Redemption, Red Dead, Dead Eye are marks/logos/copyrights of Take-Two Interactive. Dolby and the Double-D symbols are trademarks of Dolby Laboratories. The ratings icon is a trademark of the Entertainment Software Association. All other marks and trademarks are properties of their respective owners.  All rights reserved.', 'ext_user_account_notice': 'Rockstar Games Social Club ', 'developers': ['Rockstar Games'], 'publishers': ['Rockstar Games'], 'price_overview': {'currency': 'BRL', 'initial': 29990, 'final': 29990, 'discount_percent': 0, 'initial_formatted': '', 'final_formatted': 'R$ 299,90'}, 'packages': [402134, 412454], 'package_groups': [{'name': 'default', 'title': 'Buy Red Dead Redemption 2', 'description': '', 'selection_text': 'Select a purchase option', 'save_text': '', 'display_type': 0, 'is_recurring_subscription': 'false', 'subs': [{'packageid': 402134, 'percent_savings_text': ' ', 'percent_savings': 0, 'option_text': 'Red Dead Redemption 2 - R$ 299,90', 'option_description': '', 'can_get_free_license': '0', 'is_free_license': False, 'price_in_cents_with_discount': 29990}, {'packageid': 412454, 'percent_savings_text': ' ', 'percent_savings': 0, 'option_text': 'Red Dead Redemption 2: Ultimate Edition - R$ 399,90', 'option_description': '', 'can_get_free_license': '0', 'is_free_license': False, 'price_in_cents_with_discount': 39990}]}], 'platforms': {'windows': True, 'mac': False, 'linux': False}, 'metacritic': {'score': 93, 'url': 'https://www.metacritic.com/game/pc/red-dead-redemption-2?ftag=MCD-06-10aaa1f'}, 'categories': [{'id': 2, 'description': 'Single-player'}, {'id': 1, 'description': 'Multi-player'}, {'id': 49, 'description': 'PvP'}, {'id': 36, 'description': 'Online PvP'}, {'id': 9, 'description': 'Co-op'}, {'id': 38, 'description': 'Online Co-op'}, {'id': 22, 'description': 'Steam Achievements'}, {'id': 35, 'description': 'In-App Purchases'}, {'id': 18, 'description': 'Partial Controller Support'}, {'id': 41, 'description': 'Remote Play on Phone'}, {'id': 42, 'description': 'Remote Play on Tablet'}], 'genres': [{'id': '1', 'description': 'Action'}, {'id': '25', 'description': 'Adventure'}], 'screenshots': [{'id': 0, 'path_thumbnail': 'https://cdn.akamai.steamstatic.com/steam/apps/1174180/ss_66b553f4c209476d3e4ce25fa4714002cc914c4f.600x338.jpg?t=1695140956', 'path_full': 'https://cdn.akamai.steamstatic.com/steam/apps/1174180/ss_66b553f4c209476d3e4ce25fa4714002cc914c4f.1920x1080.jpg?t=1695140956'}, {'id': 1, 'path_thumbnail': 'https://cdn.akamai.steamstatic.com/steam/apps/1174180/ss_bac60bacbf5da8945103648c08d27d5e202444ca.600x338.jpg?t=1695140956', 'path_full': 'https://cdn.akamai.steamstatic.com/steam/apps/1174180/ss_bac60bacbf5da8945103648c08d27d5e202444ca.1920x1080.jpg?t=1695140956'}, {'id': 2, 'path_thumbnail': 'https://cdn.akamai.steamstatic.com/steam/apps/1174180/ss_668dafe477743f8b50b818d5bbfcec669e9ba93e.600x338.jpg?t=1695140956', 'path_full': 'https://cdn.akamai.steamstatic.com/steam/apps/1174180/ss_668dafe477743f8b50b818d5bbfcec669e9ba93e.1920x1080.jpg?t=1695140956'}, {'id': 3, 'path_thumbnail': 'https://cdn.akamai.steamstatic.com/steam/apps/1174180/ss_4ce07ae360b166f0f650e9a895a3b4b7bf15e34f.600x338.jpg?t=1695140956', 'path_full': 'https://cdn.akamai.steamstatic.com/steam/apps/1174180/ss_4ce07ae360b166f0f650e9a895a3b4b7bf15e34f.1920x1080.jpg?t=1695140956'}, {'id': 4, 'path_thumbnail': 'https://cdn.akamai.steamstatic.com/steam/apps/1174180/ss_d1a8f5a69155c3186c65d1da90491fcfd43663d9.600x338.jpg?t=1695140956', 'path_full': 'https://cdn.akamai.steamstatic.com/steam/apps/1174180/ss_d1a8f5a69155c3186c65d1da90491fcfd43663d9.1920x1080.jpg?t=1695140956'}], 'movies': [{'id': 256768244, 'name': 'RDR2 60 FPS Trailer (BR)', 'thumbnail': 'https://cdn.akamai.steamstatic.com/steam/apps/256768244/movie.293x165.jpg?t=1574881606', 'webm': {'480': 'http://cdn.akamai.steamstatic.com/steam/apps/256768244/movie480.webm?t=1574881606', 'max': 'http://cdn.akamai.steamstatic.com/steam/apps/256768244/movie_max.webm?t=1574881606'}, 'mp4': {'480': 'http://cdn.akamai.steamstatic.com/steam/apps/256768244/movie480.mp4?t=1574881606', 'max': 'http://cdn.akamai.steamstatic.com/steam/apps/256768244/movie_max.mp4?t=1574881606'}, 'highlight': True}, {'id': 256768243, 'name': 'RDR2 Launch Trailer (BR)', 'thumbnail': 'https://cdn.akamai.steamstatic.com/steam/apps/256768243/movie.293x165.jpg?t=1574881616', 'webm': {'480': 'http://cdn.akamai.steamstatic.com/steam/apps/256768243/movie480.webm?t=1574881616', 'max': 'http://cdn.akamai.steamstatic.com/steam/apps/256768243/movie_max.webm?t=1574881616'}, 'mp4': {'480': 'http://cdn.akamai.steamstatic.com/steam/apps/256768243/movie480.mp4?t=1574881616', 'max': 'http://cdn.akamai.steamstatic.com/steam/apps/256768243/movie_max.mp4?t=1574881616'}, 'highlight': True}], 'recommendations': {'total': 453787}, 'achievements': {'total': 51, 'highlighted': [{'name': 'Back in the Mud', 'path': 'https://cdn.akamai.steamstatic.com/steamcommunity/public/images/apps/1174180/3f5b6b4295a58d39b7619e5723f94b8f475dd81e.jpg'}, {'name': 'Just a Scratch', 'path': 'https://cdn.akamai.steamstatic.com/steamcommunity/public/images/apps/1174180/1d0bdc25d376a74b0ee37355ee32f9eb308dd90c.jpg'}, {'name': 'To Greener Pastures', 'path': 'https://cdn.akamai.steamstatic.com/steamcommunity/public/images/apps/1174180/cede247d21de983c4d0d8aed8b75d1324cac9bf3.jpg'}, {'name': 'Settling Feuds', 'path': 'https://cdn.akamai.steamstatic.com/steamcommunity/public/images/apps/1174180/ab025f0eacc998f62125d7a7bb186e9fbdd95d24.jpg'}, {'name': 'Washed Ashore', 'path': 'https://cdn.akamai.steamstatic.com/steamcommunity/public/images/apps/1174180/a07e4dac160f638c24ac851ffc0aea19bc51f12d.jpg'}, {'name': 'No Traitors', 'path': 'https://cdn.akamai.steamstatic.com/steamcommunity/public/images/apps/1174180/79a6c1cb5ac1f88150802768ab8c6a7078d272c1.jpg'}, {'name': 'Third Time Lucky', 'path': 'https://cdn.akamai.steamstatic.com/steamcommunity/public/images/apps/1174180/70286589047c58568477e6ba124161d6047cd023.jpg'}, {'name': 'Redemption', 'path': 'https://cdn.akamai.steamstatic.com/steamcommunity/public/images/apps/1174180/94fa0722da3453c6cd222b97b77880c29f7dc97c.jpg'}, {'name': 'Cowboy Builder', 'path': 'https://cdn.akamai.steamstatic.com/steamcommunity/public/images/apps/1174180/d2fdc9461799c466b1ff7a9f3666cd2dbb4f61e3.jpg'}, {'name': 'Endless Summer', 'path': 'https://cdn.akamai.steamstatic.com/steamcommunity/public/images/apps/1174180/caca2e3bed70ec5ce18c7d7e9a261aef5cf55737.jpg'}]}, 'release_date': {'coming_soon': False, 'date': '5 Dec, 2019'}, 'support_info': {'url': 'https://support.rockstargames.com/', 'email': ''}, 'background': 'https://cdn.akamai.steamstatic.com/steam/apps/1174180/page_bg_generated_v6b.jpg?t=1695140956', 'background_raw': 'https://cdn.akamai.steamstatic.com/steam/apps/1174180/page.bg.jpg?t=1695140956', 'content_descriptors': {'ids': [5], 'notes': None}}}}\n"
     ]
    }
   ],
   "source": [
    "print(game_overview)"
   ]
  },
  {
   "cell_type": "code",
   "execution_count": 145,
   "metadata": {},
   "outputs": [
    {
     "data": {
      "text/plain": [
       "{'coming_soon': False, 'date': '5 Dec, 2019'}"
      ]
     },
     "execution_count": 145,
     "metadata": {},
     "output_type": "execute_result"
    }
   ],
   "source": [
    "game_overview[gameid][\"data\"]['is_free']\n",
    "\n",
    "game_overview[gameid][\"data\"]['detailed_description']\n",
    "\n",
    "game_overview[gameid][\"data\"]['developers']\n",
    "game_overview[gameid][\"data\"]['publishers']\n",
    "\n",
    "game_overview[gameid][\"data\"]['price_overview']['final_formatted']\n",
    "\n",
    "game_overview[gameid]['data']['genres']\n",
    "\n",
    "game_overview[gameid]['data']['release_date']\n",
    "\n",
    "#game_overview[gameid]['data']"
   ]
  },
  {
   "cell_type": "markdown",
   "metadata": {},
   "source": [
    "## Retorno menor preço atual e histórico"
   ]
  },
  {
   "cell_type": "code",
   "execution_count": 146,
   "metadata": {},
   "outputs": [
    {
     "name": "stdout",
     "output_type": "stream",
     "text": [
      "https://api.isthereanydeal.com/v01/game/overview/?key=48cf3848edaf5a53d702c5b056b0dcb4be35df34&country=BR&shop=steam&ids=app/1174180&\n"
     ]
    }
   ],
   "source": [
    "game_lowest = getGameLowest(gameid)"
   ]
  },
  {
   "cell_type": "code",
   "execution_count": 147,
   "metadata": {},
   "outputs": [
    {
     "name": "stdout",
     "output_type": "stream",
     "text": [
      "<class 'dict'>\n",
      "<class 'str'>\n"
     ]
    }
   ],
   "source": [
    "from datetime import datetime\n",
    "\n",
    "print(type(game_lowest['data'][f\"app/{gameid}\"]))\n",
    "\n",
    "game_lowest['data'][f\"app/{gameid}\"]['price'] # today´s lowest\n",
    "game_lowest['data'][f\"app/{gameid}\"]['price']['store']\n",
    "\n",
    "\n",
    "game_lowest['data'][f\"app/{gameid}\"]['lowest'] # historical lowest\n",
    "game_lowest['data'][f\"app/{gameid}\"]['lowest']['store']\n",
    "\n",
    "game_lowest['data'][f\"app/{gameid}\"]['urls']['history'] # price history site\n",
    "\n",
    "game_lowest['data'][f\"app/{gameid}\"]['lowest']['recorded']\n",
    "\n",
    "data_formatada = datetime.utcfromtimestamp(game_lowest['data'][f\"app/{gameid}\"]['lowest']['recorded']).strftime('%d-%m-%Y') # dia do menor preço histórico\n",
    "\n",
    "print(data_formatada)"
   ]
  },
  {
   "cell_type": "markdown",
   "metadata": {},
   "source": [
    "## Retorno todos os preços do jogo"
   ]
  },
  {
   "cell_type": "code",
   "execution_count": 148,
   "metadata": {},
   "outputs": [
    {
     "name": "stdout",
     "output_type": "stream",
     "text": [
      "https://api.isthereanydeal.com/v01/game/plain/id/?key=48cf3848edaf5a53d702c5b056b0dcb4be35df34&shop=steam&ids=app/1174180&\n",
      "reddeadredemptionii\n",
      "https://api.isthereanydeal.com/v01/game/prices/?key=48cf3848edaf5a53d702c5b056b0dcb4be35df34&plains=reddeadredemptionii&country=BR&\n"
     ]
    }
   ],
   "source": [
    "plainResponse = getGamePlains(gameid=gameid)\n",
    "\n",
    "game_plain = plainResponse['data'][f\"app/{gameid}\"]\n",
    "\n",
    "print(game_plain)\n",
    "\n",
    "pricesResponse = getGamePrices(game_plain)"
   ]
  },
  {
   "cell_type": "code",
   "execution_count": 149,
   "metadata": {},
   "outputs": [
    {
     "name": "stdout",
     "output_type": "stream",
     "text": [
      "292.776 126.842 GameBillet\n",
      "239 239 GreenManGaming\n",
      "293.881 279.185 GamesPlanet US\n",
      "292.787 292.787 Humble Store\n",
      "293.881 293.881 Fanatical\n",
      "299.9 299.9 Gamesload\n",
      "299.9 299.9 Epic Game Store\n",
      "299.9 299.9 Steam\n",
      "299.9 299.9 GamersGate\n",
      "299.9 299.9 Dreamgame\n",
      "299.9 299.9 GreenManGaming\n",
      "299.9 299.9 Nuuvem\n",
      "299.9 299.9 2game\n",
      "319.805 303.812 GamesPlanet FR\n",
      "319.805 303.812 GamesPlanet DE\n",
      "373.486 354.808 GamesPlanet UK\n"
     ]
    }
   ],
   "source": [
    "#pricesResponse['data'][game_plain]['list']\n",
    "\n",
    "for i in pricesResponse['data'][game_plain]['list']:\n",
    "    print(i['price_old'],i['price_new'],i['shop']['name'])"
   ]
  }
 ],
 "metadata": {
  "kernelspec": {
   "display_name": "Python 3",
   "language": "python",
   "name": "python3"
  },
  "language_info": {
   "codemirror_mode": {
    "name": "ipython",
    "version": 3
   },
   "file_extension": ".py",
   "mimetype": "text/x-python",
   "name": "python",
   "nbconvert_exporter": "python",
   "pygments_lexer": "ipython3",
   "version": "3.11.3"
  }
 },
 "nbformat": 4,
 "nbformat_minor": 2
}
